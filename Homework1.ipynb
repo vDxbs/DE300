{
 "cells": [
  {
   "cell_type": "markdown",
   "id": "2f2cd1d2",
   "metadata": {},
   "source": [
    "Tasks:\n",
    "Investigate the missing data in this dataset. Specifically, for each of the following variables that have missing data, decide if any imputation is possible. Give your reasoning and code if you decide to impute missing values.\n",
    "Columns for investigation: CARRIER, CARRIER_NAME, MANUFACTURE_YEAR, NUMBER_OF_SEATS, CAPACITY_IN_POUNDS, and AIRLINE_ID.\n",
    "For example, watch out for \"North American Airlines\" aircrafts. Are the CARRIER/UNIQUE_CARRIER column really missing?\n",
    "Inspect the columns MANUFACTURER, MODEL, AIRCRAFT_STATUS, and OPERATING_STATUS. Decide, for each column, if transformation or standardization of data are required. Give your reasoning and code if you decide to transform the data.\n",
    "Hints:\n",
    "For very messy data like manufacturer/model names, give your best attempt. It is okay to not catch them all.\n",
    "Use value_counts() to identify \"big wins\".\n",
    "Break down into multiple steps, instead of having one line of code to do them all.\n",
    "Remove data rows that still have missing values. Report the amount of remaining data you obtained.\n",
    "Transformation and derivative variables\n",
    "For the columns NUMBER_OF_SEATS and CAPACITY_IN_POUNDS, check the skewness in the variable and plot a histogram for each variable.\n",
    "The Box-Cox transformation (scipy.stats.boxcox) is one possible way to transform variables into a \"more-normal-like\" variable. Apply the Box-Cox transformation for these two columns and save them as new columns, i.e. XXXXXXXXX_BOXCOX.\n",
    "Plot a histogram for each transformed variable.\n",
    "Describe what you observe before and after transformation.\n",
    "Feature engineering\n",
    "Create a new column SIZE by the quartiles of NUMBER_OF_SEATS\n",
    "below 25% percentile: SMALL\n",
    "25% - 50% percentile: MEDIUM\n",
    "50% - 75% percentile: LARGE\n",
    "above 75% percentile: XLARGE\n",
    "For each size group, provide and plot the proportions of aircrafts that are operating versus not (OPERATING_STATUS).\n",
    "For each size group, provide and plot the proportions of aircrafts belonging to each aircraft status group (AIRCRAFT_STATUS).\n",
    "Provide a written summary of your findings.\n"
   ]
  },
  {
   "cell_type": "code",
   "execution_count": 59,
   "id": "a6d64e13",
   "metadata": {},
   "outputs": [],
   "source": [
    "import miceforest as mf\n",
    "from sklearn.impute import KNNImputer\n",
    "from sklearn.preprocessing import LabelEncoder\n",
    "import missingno as msno\n",
    "import matplotlib.pyplot as plt"
   ]
  },
  {
   "cell_type": "code",
   "execution_count": 1,
   "id": "5aaedf25",
   "metadata": {},
   "outputs": [
    {
     "name": "stderr",
     "output_type": "stream",
     "text": [
      "C:\\Users\\vDxbs\\AppData\\Local\\Temp\\ipykernel_18704\\1321453169.py:2: DtypeWarning: Columns (11) have mixed types. Specify dtype option on import or set low_memory=False.\n",
      "  inventory = pd.read_csv('dataset/T_F41SCHEDULE_B43.zip')\n"
     ]
    },
    {
     "name": "stdout",
     "output_type": "stream",
     "text": [
      "<class 'pandas.core.frame.DataFrame'>\n",
      "RangeIndex: 132313 entries, 0 to 132312\n",
      "Data columns (total 17 columns):\n",
      " #   Column               Non-Null Count   Dtype  \n",
      "---  ------               --------------   -----  \n",
      " 0   YEAR                 132313 non-null  int64  \n",
      " 1   CARRIER              132264 non-null  object \n",
      " 2   CARRIER_NAME         132208 non-null  object \n",
      " 3   MANUFACTURE_YEAR     132310 non-null  float64\n",
      " 4   UNIQUE_CARRIER_NAME  132208 non-null  object \n",
      " 5   SERIAL_NUMBER        132313 non-null  object \n",
      " 6   TAIL_NUMBER          132313 non-null  object \n",
      " 7   AIRCRAFT_STATUS      132313 non-null  object \n",
      " 8   OPERATING_STATUS     132313 non-null  object \n",
      " 9   NUMBER_OF_SEATS      132306 non-null  float64\n",
      " 10  MANUFACTURER         132313 non-null  object \n",
      " 11  AIRCRAFT_TYPE        102380 non-null  object \n",
      " 12  MODEL                132302 non-null  object \n",
      " 13  CAPACITY_IN_POUNDS   132212 non-null  float64\n",
      " 14  ACQUISITION_DATE     131346 non-null  object \n",
      " 15  AIRLINE_ID           132208 non-null  float64\n",
      " 16  UNIQUE_CARRIER       132149 non-null  object \n",
      "dtypes: float64(4), int64(1), object(12)\n",
      "memory usage: 17.2+ MB\n"
     ]
    }
   ],
   "source": [
    "import pandas as pd\n",
    "inventory = pd.read_csv('dataset/T_F41SCHEDULE_B43.zip')\n",
    "inventory.info()"
   ]
  },
  {
   "cell_type": "markdown",
   "id": "524d34bc",
   "metadata": {},
   "source": [
    "1) Investigate the missing data in this dataset. Specifically, for each of the following variables that have missing data, decide if any imputation is possible. Give your reasoning and code if you decide to impute missing values."
   ]
  },
  {
   "cell_type": "markdown",
   "id": "1541ab99",
   "metadata": {},
   "source": [
    "CARRIER and CARRIER_NAME can partially be imputed by relating them to one another. The only 'missing' carrier is NA for North American Airlines so we can manually impute that. For carrier names, the ones that are missing have carrier columns of L4 and OH. From the dataset OH has been used for two carrier names so we cannot assume either. On the other hand, L4 is only used for one carrier name so we can insert Lynx Aviation for the missing L4 carrier names. Similarly we can assume the AIRLINE_ID for the missing L4 rows is 21217.\n",
    "\n",
    "I do not believe we can impute the few missing MANUFACTURE_YEAR entries because that can vary a lot even with the data we have in the other columns. For CAPACITY_IN_POUNDS and NUMBER_OF_SEATS, we should be able to use predictive imputation based on the model of the plane which determines the seat and weight capacities. "
   ]
  },
  {
   "cell_type": "code",
   "execution_count": null,
   "id": "184c9bfe",
   "metadata": {},
   "outputs": [],
   "source": [
    "imputed_inv = inventory.copy()\n",
    "# manual imputations\n",
    "imputed_inv.loc[inventory['CARRIER'].isna(), 'CARRIER'] = 'NA'\n",
    "imputed_inv.loc[imputed_inv['CARRIER_NAME'].isna() & (imputed_inv['CARRIER'] == 'L4'), 'CARRIER_NAME'] = 'Lynx Aviation d/b/a Frontier Airlines'\n",
    "imputed_inv.loc[imputed_inv['AIRLINE_ID'].isna() & (imputed_inv['CARRIER'] == 'L4'), 'AIRLINE_ID'] = 21217\n",
    "\n",
    "\n",
    "# create temporary copy with encoded model column for predictions\n",
    "temp = imputed_inv.copy()\n",
    "le = LabelEncoder()\n",
    "temp['MODEL_ENC'] = le.fit_transform(temp['MODEL'].astype(str))\n",
    "\n",
    "fs = ['MODEL_ENC','CAPACITY_IN_POUNDS', 'NUMBER_OF_SEATS']\n",
    "imputer = KNNImputer(n_neighbors=5)\n",
    "imputedValues = imputer.fit_transform(temp[fs])\n",
    "\n",
    "# insert values\n",
    "imputed_inv[['CAPACITY_IN_POUNDS', 'NUMBER_OF_SEATS']] = imputedValues[:,1:]"
   ]
  },
  {
   "cell_type": "code",
   "execution_count": null,
   "id": "712ff5b6",
   "metadata": {},
   "outputs": [],
   "source": [
    "import missingno as msno\n",
    "msno.bar(imputed_inv)\n",
    "### of the columns to investigate, number of seats and capacity make sense to be imputed since I believe they can be estimated using the model since the models of a plane typically have the same seats and capacity ###"
   ]
  },
  {
   "cell_type": "markdown",
   "id": "178b61e0",
   "metadata": {},
   "source": [
    "2) Inspect the columns MANUFACTURER, MODEL, AIRCRAFT_STATUS, and OPERATING_STATUS. Decide, for each column, if transformation or standardization of data are required. Give your reasoning and code if you decide to transform the data.\n"
   ]
  },
  {
   "cell_type": "markdown",
   "id": "70ae13e7",
   "metadata": {},
   "source": [
    "For manufacturing, I will transform the inputs to be more consistent since some manufacturers are entered under differnet names (ex. BOEING vs boeing vs THEBOEINGCOMPANY)\n",
    "For aircraft/operating status and model, I will simply remove inconsistent punctuation and make them uppercase"
   ]
  },
  {
   "cell_type": "code",
   "execution_count": 97,
   "id": "39396b53",
   "metadata": {},
   "outputs": [],
   "source": [
    "# Manufacturing\n",
    "mf_map = {\n",
    "    'THEBOEINGCO' : 'BOEING',\n",
    "    'Boeing' : 'BOEING',\n",
    "    'BoeingCo' : 'BOEING',\n",
    "    'BOEINGCOMPANY' : 'BOEING',\n",
    "    'THEBOEINGCOMPANY' : 'BOEING',\n",
    "    'TheBoeingCompany' : 'BOEING',\n",
    "\n",
    "    'AirbusIndustries' : 'AIRBUS',\n",
    "    'AirbusIndustrie' : 'AIRBUS',\n",
    "    'Airbus' : 'AIRBUS',\n",
    "\n",
    "    'Embraer' : 'EMBRAER',\n",
    "\n",
    "    'MCDONNELL-DOUGLAS' : 'MCDONNELLDOUGLAS',\n",
    "    'McDonnellDouglas' : 'MCDONNELLDOUGLAS',\n",
    "}\n",
    "\n",
    "imputed_inv['MANUFACTURER'] = imputed_inv['MANUFACTURER'].replace(mf_map)"
   ]
  },
  {
   "cell_type": "code",
   "execution_count": 108,
   "id": "c99392ba",
   "metadata": {},
   "outputs": [],
   "source": [
    "imputed_inv['MODEL'] = imputed_inv['MODEL'].str.upper().str.strip()\n",
    "imputed_inv['AIRCRAFT_STATUS'] = imputed_inv['AIRCRAFT_STATUS'].str.upper().str.strip()\n",
    "\n",
    "op_map = {\n",
    "    '' : 'N'\n",
    "}\n",
    "imputed_inv['OPERATING_STATUS'] = imputed_inv['OPERATING_STATUS'].replace(op_map)\n",
    "imputed_inv['OPERATING_STATUS'] = imputed_inv['OPERATING_STATUS'].str.upper().str.strip()\n"
   ]
  },
  {
   "cell_type": "code",
   "execution_count": 109,
   "id": "136a9a09",
   "metadata": {},
   "outputs": [
    {
     "data": {
      "text/plain": [
       "OPERATING_STATUS\n",
       "Y    126648\n",
       "N      5665\n",
       "Name: count, dtype: int64"
      ]
     },
     "execution_count": 109,
     "metadata": {},
     "output_type": "execute_result"
    }
   ],
   "source": [
    "imputed_inv['OPERATING_STATUS'].value_counts().head(10)"
   ]
  },
  {
   "cell_type": "markdown",
   "id": "654e8e9f",
   "metadata": {},
   "source": [
    "We finish with 101275 rows of remaining data"
   ]
  },
  {
   "cell_type": "code",
   "execution_count": null,
   "id": "cbd08cb2",
   "metadata": {},
   "outputs": [],
   "source": [
    "imputed_inv = imputed_inv.dropna()\n",
    "imputed_inv"
   ]
  },
  {
   "cell_type": "markdown",
   "id": "0a5cc56c",
   "metadata": {},
   "source": [
    "4) For the columns NUMBER_OF_SEATS and CAPACITY_IN_POUNDS, check the skewness in the variable and plot a histogram for each variable.\n",
    "The Box-Cox transformation (scipy.stats.boxcox) is one possible way to transform variables into a \"more-normal-like\" variable. Apply the Box-Cox transformation for these two columns and save them as new columns, i.e. XXXXXXXXX_BOXCOX."
   ]
  },
  {
   "cell_type": "markdown",
   "id": "2bf59066",
   "metadata": {},
   "source": [
    "After the treansformation, the values are much closer to a normal distribution but number of seats has a large amount of 0 entries which results in a spike at 0 but the nonzero entries are properly transformed to be more normal. "
   ]
  },
  {
   "cell_type": "code",
   "execution_count": null,
   "id": "87c6b5d1",
   "metadata": {},
   "outputs": [
    {
     "name": "stdout",
     "output_type": "stream",
     "text": [
      "-1.7868951928328567\n",
      "-6.455851774722862\n"
     ]
    },
    {
     "data": {
      "image/png": "[encoded data removed]",
      "text/plain": [
       "<Figure size 1200x500 with 2 Axes>"
      ]
     },
     "metadata": {},
     "output_type": "display_data"
    }
   ],
   "source": [
    "from scipy.stats import boxcox\n",
    "\n",
    "\n",
    "\n",
    "seats = imputed_inv['NUMBER_OF_SEATS'] > 0\n",
    "caps = imputed_inv['CAPACITY_IN_POUNDS'] > 0\n",
    "skew_seats = seats.skew()\n",
    "skew_cap = caps.skew()\n",
    "print(skew_seats)\n",
    "print(skew_cap)\n",
    "\n",
    "plt.figure(figsize=(12, 5))\n",
    "\n",
    "plt.subplot(1, 2, 1)\n",
    "plt.hist(imputed_inv['NUMBER_OF_SEATS'], bins=30, color='skyblue', edgecolor='black')\n",
    "plt.title('Histogram of NUMBER_OF_SEATS')\n",
    "\n",
    "plt.subplot(1, 2, 2)\n",
    "plt.hist(imputed_inv['CAPACITY_IN_POUNDS'], bins=30, color='salmon', edgecolor='black')\n",
    "plt.title('Histogram of CAPACITY_IN_POUNDS')\n",
    "\n",
    "plt.tight_layout()\n",
    "plt.show()\n",
    "\n"
   ]
  },
  {
   "cell_type": "code",
   "execution_count": 118,
   "id": "e853e40c",
   "metadata": {},
   "outputs": [
    {
     "name": "stderr",
     "output_type": "stream",
     "text": [
      "C:\\Users\\vDxbs\\AppData\\Local\\Temp\\ipykernel_18704\\1605889511.py:12: SettingWithCopyWarning: \n",
      "A value is trying to be set on a copy of a slice from a DataFrame.\n",
      "Try using .loc[row_indexer,col_indexer] = value instead\n",
      "\n",
      "See the caveats in the documentation: https://pandas.pydata.org/pandas-docs/stable/user_guide/indexing.html#returning-a-view-versus-a-copy\n",
      "  imputed_inv['NUMBER_OF_SEATS_BOXCOX'], _ = boxcox(seat_data)\n",
      "C:\\Users\\vDxbs\\AppData\\Local\\Temp\\ipykernel_18704\\1605889511.py:13: SettingWithCopyWarning: \n",
      "A value is trying to be set on a copy of a slice from a DataFrame.\n",
      "Try using .loc[row_indexer,col_indexer] = value instead\n",
      "\n",
      "See the caveats in the documentation: https://pandas.pydata.org/pandas-docs/stable/user_guide/indexing.html#returning-a-view-versus-a-copy\n",
      "  imputed_inv['CAPACITY_IN_POUNDS_BOXCOX'], _ = boxcox(capacity_data)\n"
     ]
    },
    {
     "data": {
      "image/png": "[encoded data removed]",
      "text/plain": [
       "<Figure size 1200x500 with 2 Axes>"
      ]
     },
     "metadata": {},
     "output_type": "display_data"
    }
   ],
   "source": [
    "seat_data = imputed_inv['NUMBER_OF_SEATS']\n",
    "capacity_data = imputed_inv['CAPACITY_IN_POUNDS']\n",
    "\n",
    "# Ensure all values > 0\n",
    "if (seat_data <= 0).any():\n",
    "    seat_data += 1 - seat_data.min()\n",
    "\n",
    "if (capacity_data <= 0).any():\n",
    "    capacity_data += 1 - capacity_data.min()\n",
    "\n",
    "# Apply Box-Cox\n",
    "imputed_inv['NUMBER_OF_SEATS_BOXCOX'], _ = boxcox(seat_data)\n",
    "imputed_inv['CAPACITY_IN_POUNDS_BOXCOX'], _ = boxcox(capacity_data)\n",
    "\n",
    "\n",
    "#graphing\n",
    "plt.figure(figsize=(12, 5))\n",
    "\n",
    "plt.subplot(1, 2, 1)\n",
    "plt.hist(imputed_inv['NUMBER_OF_SEATS_BOXCOX'], bins=30, color='purple', edgecolor='black')\n",
    "plt.title('Box-Cox Transformed NUMBER_OF_SEATS')\n",
    "\n",
    "plt.subplot(1, 2, 2)\n",
    "plt.hist(imputed_inv['CAPACITY_IN_POUNDS_BOXCOX'], bins=30, color='green', edgecolor='black')\n",
    "plt.title('Box-Cox Transformed CAPACITY_IN_POUNDS')\n",
    "\n",
    "plt.tight_layout()\n",
    "plt.show()\n"
   ]
  },
  {
   "cell_type": "markdown",
   "id": "ffc6f16c",
   "metadata": {},
   "source": [
    "5) Create a new column SIZE by the quartiles of NUMBER_OF_SEATS\n",
    "below 25% percentile: SMALL\n",
    "25% - 50% percentile: MEDIUM\n",
    "50% - 75% percentile: LARGE\n",
    "above 75% percentile: XLARGE\n",
    "For each size group, provide and plot the proportions of aircrafts that are operating versus not (OPERATING_STATUS).\n",
    "For each size group, provide and plot the proportions of aircrafts belonging to each aircraft status group (AIRCRAFT_STATUS).\n",
    "Provide a written summary of your findings."
   ]
  },
  {
   "cell_type": "code",
   "execution_count": null,
   "id": "29b81319",
   "metadata": {},
   "outputs": [],
   "source": []
  }
 ],
 "metadata": {
  "kernelspec": {
   "display_name": "dse300",
   "language": "python",
   "name": "python3"
  },
  "language_info": {
   "codemirror_mode": {
    "name": "ipython",
    "version": 3
   },
   "file_extension": ".py",
   "mimetype": "text/x-python",
   "name": "python",
   "nbconvert_exporter": "python",
   "pygments_lexer": "ipython3",
   "version": "3.13.2"
  }
 },
 "nbformat": 4,
 "nbformat_minor": 5
}
