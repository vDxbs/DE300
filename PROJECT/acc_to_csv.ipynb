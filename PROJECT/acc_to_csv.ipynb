{
 "cells": [
  {
   "cell_type": "code",
   "execution_count": null,
   "id": "c31ee329",
   "metadata": {},
   "outputs": [
    {
     "ename": "Error",
     "evalue": "('HY000', '[HY000] [Microsoft][ODBC Microsoft Access Driver] Not a valid file name. (-1044) (SQLDriverConnect); [HY000] [Microsoft][ODBC Microsoft Access Driver] Not a valid file name. (-1044)')",
     "output_type": "error",
     "traceback": [
      "\u001b[31m---------------------------------------------------------------------------\u001b[39m",
      "\u001b[31mError\u001b[39m                                     Traceback (most recent call last)",
      "\u001b[36mCell\u001b[39m\u001b[36m \u001b[39m\u001b[32mIn[1]\u001b[39m\u001b[32m, line 9\u001b[39m\n\u001b[32m      7\u001b[39m \u001b[38;5;66;03m# Set up the ODBC connection\u001b[39;00m\n\u001b[32m      8\u001b[39m conn_str = \u001b[33mr\u001b[39m\u001b[33m'\u001b[39m\u001b[33mDRIVER=\u001b[39m\u001b[33m{\u001b[39m\u001b[33mMicrosoft Access Driver (*.mdb, *.accdb)};DBQ=\u001b[39m\u001b[33m'\u001b[39m + db_file\n\u001b[32m----> \u001b[39m\u001b[32m9\u001b[39m conn = \u001b[43mpyodbc\u001b[49m\u001b[43m.\u001b[49m\u001b[43mconnect\u001b[49m\u001b[43m(\u001b[49m\u001b[43mconn_str\u001b[49m\u001b[43m)\u001b[49m\n\u001b[32m     11\u001b[39m \u001b[38;5;66;03m# Query the 'Fires' table (replace 'Fires' with the actual table name if different)\u001b[39;00m\n\u001b[32m     12\u001b[39m query = \u001b[33m\"\u001b[39m\u001b[33mSELECT * FROM Fires\u001b[39m\u001b[33m\"\u001b[39m  \u001b[38;5;66;03m# You might need to adjust the table name\u001b[39;00m\n",
      "\u001b[31mError\u001b[39m: ('HY000', '[HY000] [Microsoft][ODBC Microsoft Access Driver] Not a valid file name. (-1044) (SQLDriverConnect); [HY000] [Microsoft][ODBC Microsoft Access Driver] Not a valid file name. (-1044)')"
     ]
    }
   ],
   "source": [
    "import pyodbc\n",
    "import pandas as pd\n",
    "\n",
    "# Path to the .accdb file in the same directory as the script\n",
    "db_file = 'FPA_FOD_20221014.accdb'  # Make sure this is the exact name of your .accdb file\n",
    "\n",
    "# Set up the ODBC connection string\n",
    "conn_str = r'DRIVER={Microsoft Access Driver (*.mdb, *.accdb)};DBQ=' + db_file\n",
    "\n",
    "try:\n",
    "    # Connect to the database\n",
    "    conn = pyodbc.connect(conn_str)\n",
    "    print(\"Connection successful!\")\n",
    "\n",
    "    # Query the 'Fires' table (adjust table name if needed)\n",
    "    query = \"SELECT * FROM Fires\"\n",
    "    \n",
    "    # Load the data into a pandas DataFrame\n",
    "    df = pd.read_sql(query, conn)\n",
    "    \n",
    "    # Export to CSV\n",
    "    df.to_csv('fires.csv', index=False)\n",
    "    print(\"Data successfully exported to 'fires.csv'\")\n",
    "\n",
    "    # Close the connection\n",
    "    conn.close()\n",
    "\n",
    "except Exception as e:\n",
    "    print(f\"Error: {e}\")\n"
   ]
  }
 ],
 "metadata": {
  "kernelspec": {
   "display_name": "dse300",
   "language": "python",
   "name": "python3"
  },
  "language_info": {
   "codemirror_mode": {
    "name": "ipython",
    "version": 3
   },
   "file_extension": ".py",
   "mimetype": "text/x-python",
   "name": "python",
   "nbconvert_exporter": "python",
   "pygments_lexer": "ipython3",
   "version": "3.11.11"
  }
 },
 "nbformat": 4,
 "nbformat_minor": 5
}
