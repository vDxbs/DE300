{
 "cells": [
  {
   "cell_type": "markdown",
   "id": "c5fba197",
   "metadata": {},
   "source": [
    "Load all the data into a duckdb database. Refer to MIMIC-III example for guidance to create your own database."
   ]
  },
  {
   "cell_type": "code",
   "execution_count": 2,
   "id": "8e04ffd2",
   "metadata": {},
   "outputs": [
    {
     "data": {
      "text/plain": [
       "┌──────────────────┐\n",
       "│       name       │\n",
       "│     varchar      │\n",
       "├──────────────────┤\n",
       "│ ADMISSIONS       │\n",
       "│ DRGCODES         │\n",
       "│ D_ICD_PROCEDURES │\n",
       "│ ICUSTAYS         │\n",
       "│ PATIENTS         │\n",
       "│ PRESCRIPTIONS    │\n",
       "│ PROCEDURES_ICD   │\n",
       "└──────────────────┘"
      ]
     },
     "execution_count": 2,
     "metadata": {},
     "output_type": "execute_result"
    }
   ],
   "source": [
    "import duckdb\n",
    "\n",
    "# establish connection\n",
    "conn = duckdb.connect('mimic.db', read_only=False)\n",
    "\n",
    "conn.sql('SHOW TABLES;')\n"
   ]
  },
  {
   "cell_type": "code",
   "execution_count": 3,
   "metadata": {},
   "outputs": [
    {
     "name": "stderr",
     "output_type": "stream",
     "text": [
      "C:\\Users\\vDxbs\\AppData\\Local\\Temp\\ipykernel_12944\\3038712933.py:4: UserWarning: pandas only supports SQLAlchemy connectable (engine/connection) or database string URI or sqlite3 DBAPI2 connection. Other DBAPI2 objects are not tested. Please consider using SQLAlchemy.\n",
      "  df.to_sql(\"ADMISSIONS\", conn, index=False)\n"
     ]
    },
    {
     "ename": "ValueError",
     "evalue": "Table 'ADMISSIONS' already exists.",
     "output_type": "error",
     "traceback": [
      "\u001b[31m---------------------------------------------------------------------------\u001b[39m",
      "\u001b[31mValueError\u001b[39m                                Traceback (most recent call last)",
      "\u001b[36mCell\u001b[39m\u001b[36m \u001b[39m\u001b[32mIn[3]\u001b[39m\u001b[32m, line 4\u001b[39m\n\u001b[32m      1\u001b[39m \u001b[38;5;28;01mimport\u001b[39;00m\u001b[38;5;250m \u001b[39m\u001b[34;01mpandas\u001b[39;00m\u001b[38;5;250m \u001b[39m\u001b[38;5;28;01mas\u001b[39;00m\u001b[38;5;250m \u001b[39m\u001b[34;01mpd\u001b[39;00m\n\u001b[32m      3\u001b[39m df = pd.read_csv(\u001b[33m'\u001b[39m\u001b[33mData/ADMISSIONS.csv\u001b[39m\u001b[33m'\u001b[39m)\n\u001b[32m----> \u001b[39m\u001b[32m4\u001b[39m \u001b[43mdf\u001b[49m\u001b[43m.\u001b[49m\u001b[43mto_sql\u001b[49m\u001b[43m(\u001b[49m\u001b[33;43m\"\u001b[39;49m\u001b[33;43mADMISSIONS\u001b[39;49m\u001b[33;43m\"\u001b[39;49m\u001b[43m,\u001b[49m\u001b[43m \u001b[49m\u001b[43mconn\u001b[49m\u001b[43m,\u001b[49m\u001b[43m \u001b[49m\u001b[43mindex\u001b[49m\u001b[43m=\u001b[49m\u001b[38;5;28;43;01mFalse\u001b[39;49;00m\u001b[43m)\u001b[49m\n\u001b[32m      6\u001b[39m df = pd.read_csv(\u001b[33m'\u001b[39m\u001b[33mData/D_ICD_PROCEDURES.csv\u001b[39m\u001b[33m'\u001b[39m)\n\u001b[32m      7\u001b[39m df.to_sql(\u001b[33m\"\u001b[39m\u001b[33mD_ICD_PROCEDURES\u001b[39m\u001b[33m\"\u001b[39m, conn, index=\u001b[38;5;28;01mFalse\u001b[39;00m)\n",
      "\u001b[36mFile \u001b[39m\u001b[32mc:\\Users\\vDxbs\\miniconda3\\envs\\dse300\\Lib\\site-packages\\pandas\\util\\_decorators.py:333\u001b[39m, in \u001b[36mdeprecate_nonkeyword_arguments.<locals>.decorate.<locals>.wrapper\u001b[39m\u001b[34m(*args, **kwargs)\u001b[39m\n\u001b[32m    327\u001b[39m \u001b[38;5;28;01mif\u001b[39;00m \u001b[38;5;28mlen\u001b[39m(args) > num_allow_args:\n\u001b[32m    328\u001b[39m     warnings.warn(\n\u001b[32m    329\u001b[39m         msg.format(arguments=_format_argument_list(allow_args)),\n\u001b[32m    330\u001b[39m         \u001b[38;5;167;01mFutureWarning\u001b[39;00m,\n\u001b[32m    331\u001b[39m         stacklevel=find_stack_level(),\n\u001b[32m    332\u001b[39m     )\n\u001b[32m--> \u001b[39m\u001b[32m333\u001b[39m \u001b[38;5;28;01mreturn\u001b[39;00m \u001b[43mfunc\u001b[49m\u001b[43m(\u001b[49m\u001b[43m*\u001b[49m\u001b[43margs\u001b[49m\u001b[43m,\u001b[49m\u001b[43m \u001b[49m\u001b[43m*\u001b[49m\u001b[43m*\u001b[49m\u001b[43mkwargs\u001b[49m\u001b[43m)\u001b[49m\n",
      "\u001b[36mFile \u001b[39m\u001b[32mc:\\Users\\vDxbs\\miniconda3\\envs\\dse300\\Lib\\site-packages\\pandas\\core\\generic.py:3087\u001b[39m, in \u001b[36mNDFrame.to_sql\u001b[39m\u001b[34m(self, name, con, schema, if_exists, index, index_label, chunksize, dtype, method)\u001b[39m\n\u001b[32m   2889\u001b[39m \u001b[38;5;250m\u001b[39m\u001b[33;03m\"\"\"\u001b[39;00m\n\u001b[32m   2890\u001b[39m \u001b[33;03mWrite records stored in a DataFrame to a SQL database.\u001b[39;00m\n\u001b[32m   2891\u001b[39m \n\u001b[32m   (...)\u001b[39m\u001b[32m   3083\u001b[39m \u001b[33;03m[(1,), (None,), (2,)]\u001b[39;00m\n\u001b[32m   3084\u001b[39m \u001b[33;03m\"\"\"\u001b[39;00m  \u001b[38;5;66;03m# noqa: E501\u001b[39;00m\n\u001b[32m   3085\u001b[39m \u001b[38;5;28;01mfrom\u001b[39;00m\u001b[38;5;250m \u001b[39m\u001b[34;01mpandas\u001b[39;00m\u001b[34;01m.\u001b[39;00m\u001b[34;01mio\u001b[39;00m\u001b[38;5;250m \u001b[39m\u001b[38;5;28;01mimport\u001b[39;00m sql\n\u001b[32m-> \u001b[39m\u001b[32m3087\u001b[39m \u001b[38;5;28;01mreturn\u001b[39;00m \u001b[43msql\u001b[49m\u001b[43m.\u001b[49m\u001b[43mto_sql\u001b[49m\u001b[43m(\u001b[49m\n\u001b[32m   3088\u001b[39m \u001b[43m    \u001b[49m\u001b[38;5;28;43mself\u001b[39;49m\u001b[43m,\u001b[49m\n\u001b[32m   3089\u001b[39m \u001b[43m    \u001b[49m\u001b[43mname\u001b[49m\u001b[43m,\u001b[49m\n\u001b[32m   3090\u001b[39m \u001b[43m    \u001b[49m\u001b[43mcon\u001b[49m\u001b[43m,\u001b[49m\n\u001b[32m   3091\u001b[39m \u001b[43m    \u001b[49m\u001b[43mschema\u001b[49m\u001b[43m=\u001b[49m\u001b[43mschema\u001b[49m\u001b[43m,\u001b[49m\n\u001b[32m   3092\u001b[39m \u001b[43m    \u001b[49m\u001b[43mif_exists\u001b[49m\u001b[43m=\u001b[49m\u001b[43mif_exists\u001b[49m\u001b[43m,\u001b[49m\n\u001b[32m   3093\u001b[39m \u001b[43m    \u001b[49m\u001b[43mindex\u001b[49m\u001b[43m=\u001b[49m\u001b[43mindex\u001b[49m\u001b[43m,\u001b[49m\n\u001b[32m   3094\u001b[39m \u001b[43m    \u001b[49m\u001b[43mindex_label\u001b[49m\u001b[43m=\u001b[49m\u001b[43mindex_label\u001b[49m\u001b[43m,\u001b[49m\n\u001b[32m   3095\u001b[39m \u001b[43m    \u001b[49m\u001b[43mchunksize\u001b[49m\u001b[43m=\u001b[49m\u001b[43mchunksize\u001b[49m\u001b[43m,\u001b[49m\n\u001b[32m   3096\u001b[39m \u001b[43m    \u001b[49m\u001b[43mdtype\u001b[49m\u001b[43m=\u001b[49m\u001b[43mdtype\u001b[49m\u001b[43m,\u001b[49m\n\u001b[32m   3097\u001b[39m \u001b[43m    \u001b[49m\u001b[43mmethod\u001b[49m\u001b[43m=\u001b[49m\u001b[43mmethod\u001b[49m\u001b[43m,\u001b[49m\n\u001b[32m   3098\u001b[39m \u001b[43m\u001b[49m\u001b[43m)\u001b[49m\n",
      "\u001b[36mFile \u001b[39m\u001b[32mc:\\Users\\vDxbs\\miniconda3\\envs\\dse300\\Lib\\site-packages\\pandas\\io\\sql.py:842\u001b[39m, in \u001b[36mto_sql\u001b[39m\u001b[34m(frame, name, con, schema, if_exists, index, index_label, chunksize, dtype, method, engine, **engine_kwargs)\u001b[39m\n\u001b[32m    837\u001b[39m     \u001b[38;5;28;01mraise\u001b[39;00m \u001b[38;5;167;01mNotImplementedError\u001b[39;00m(\n\u001b[32m    838\u001b[39m         \u001b[33m\"\u001b[39m\u001b[33m'\u001b[39m\u001b[33mframe\u001b[39m\u001b[33m'\u001b[39m\u001b[33m argument should be either a Series or a DataFrame\u001b[39m\u001b[33m\"\u001b[39m\n\u001b[32m    839\u001b[39m     )\n\u001b[32m    841\u001b[39m \u001b[38;5;28;01mwith\u001b[39;00m pandasSQL_builder(con, schema=schema, need_transaction=\u001b[38;5;28;01mTrue\u001b[39;00m) \u001b[38;5;28;01mas\u001b[39;00m pandas_sql:\n\u001b[32m--> \u001b[39m\u001b[32m842\u001b[39m     \u001b[38;5;28;01mreturn\u001b[39;00m \u001b[43mpandas_sql\u001b[49m\u001b[43m.\u001b[49m\u001b[43mto_sql\u001b[49m\u001b[43m(\u001b[49m\n\u001b[32m    843\u001b[39m \u001b[43m        \u001b[49m\u001b[43mframe\u001b[49m\u001b[43m,\u001b[49m\n\u001b[32m    844\u001b[39m \u001b[43m        \u001b[49m\u001b[43mname\u001b[49m\u001b[43m,\u001b[49m\n\u001b[32m    845\u001b[39m \u001b[43m        \u001b[49m\u001b[43mif_exists\u001b[49m\u001b[43m=\u001b[49m\u001b[43mif_exists\u001b[49m\u001b[43m,\u001b[49m\n\u001b[32m    846\u001b[39m \u001b[43m        \u001b[49m\u001b[43mindex\u001b[49m\u001b[43m=\u001b[49m\u001b[43mindex\u001b[49m\u001b[43m,\u001b[49m\n\u001b[32m    847\u001b[39m \u001b[43m        \u001b[49m\u001b[43mindex_label\u001b[49m\u001b[43m=\u001b[49m\u001b[43mindex_label\u001b[49m\u001b[43m,\u001b[49m\n\u001b[32m    848\u001b[39m \u001b[43m        \u001b[49m\u001b[43mschema\u001b[49m\u001b[43m=\u001b[49m\u001b[43mschema\u001b[49m\u001b[43m,\u001b[49m\n\u001b[32m    849\u001b[39m \u001b[43m        \u001b[49m\u001b[43mchunksize\u001b[49m\u001b[43m=\u001b[49m\u001b[43mchunksize\u001b[49m\u001b[43m,\u001b[49m\n\u001b[32m    850\u001b[39m \u001b[43m        \u001b[49m\u001b[43mdtype\u001b[49m\u001b[43m=\u001b[49m\u001b[43mdtype\u001b[49m\u001b[43m,\u001b[49m\n\u001b[32m    851\u001b[39m \u001b[43m        \u001b[49m\u001b[43mmethod\u001b[49m\u001b[43m=\u001b[49m\u001b[43mmethod\u001b[49m\u001b[43m,\u001b[49m\n\u001b[32m    852\u001b[39m \u001b[43m        \u001b[49m\u001b[43mengine\u001b[49m\u001b[43m=\u001b[49m\u001b[43mengine\u001b[49m\u001b[43m,\u001b[49m\n\u001b[32m    853\u001b[39m \u001b[43m        \u001b[49m\u001b[43m*\u001b[49m\u001b[43m*\u001b[49m\u001b[43mengine_kwargs\u001b[49m\u001b[43m,\u001b[49m\n\u001b[32m    854\u001b[39m \u001b[43m    \u001b[49m\u001b[43m)\u001b[49m\n",
      "\u001b[36mFile \u001b[39m\u001b[32mc:\\Users\\vDxbs\\miniconda3\\envs\\dse300\\Lib\\site-packages\\pandas\\io\\sql.py:2850\u001b[39m, in \u001b[36mSQLiteDatabase.to_sql\u001b[39m\u001b[34m(self, frame, name, if_exists, index, index_label, schema, chunksize, dtype, method, engine, **engine_kwargs)\u001b[39m\n\u001b[32m   2839\u001b[39m             \u001b[38;5;28;01mraise\u001b[39;00m \u001b[38;5;167;01mValueError\u001b[39;00m(\u001b[33mf\u001b[39m\u001b[33m\"\u001b[39m\u001b[38;5;132;01m{\u001b[39;00mcol\u001b[38;5;132;01m}\u001b[39;00m\u001b[33m (\u001b[39m\u001b[38;5;132;01m{\u001b[39;00mmy_type\u001b[38;5;132;01m}\u001b[39;00m\u001b[33m) not a string\u001b[39m\u001b[33m\"\u001b[39m)\n\u001b[32m   2841\u001b[39m table = SQLiteTable(\n\u001b[32m   2842\u001b[39m     name,\n\u001b[32m   2843\u001b[39m     \u001b[38;5;28mself\u001b[39m,\n\u001b[32m   (...)\u001b[39m\u001b[32m   2848\u001b[39m     dtype=dtype,\n\u001b[32m   2849\u001b[39m )\n\u001b[32m-> \u001b[39m\u001b[32m2850\u001b[39m \u001b[43mtable\u001b[49m\u001b[43m.\u001b[49m\u001b[43mcreate\u001b[49m\u001b[43m(\u001b[49m\u001b[43m)\u001b[49m\n\u001b[32m   2851\u001b[39m \u001b[38;5;28;01mreturn\u001b[39;00m table.insert(chunksize, method)\n",
      "\u001b[36mFile \u001b[39m\u001b[32mc:\\Users\\vDxbs\\miniconda3\\envs\\dse300\\Lib\\site-packages\\pandas\\io\\sql.py:986\u001b[39m, in \u001b[36mSQLTable.create\u001b[39m\u001b[34m(self)\u001b[39m\n\u001b[32m    984\u001b[39m \u001b[38;5;28;01mif\u001b[39;00m \u001b[38;5;28mself\u001b[39m.exists():\n\u001b[32m    985\u001b[39m     \u001b[38;5;28;01mif\u001b[39;00m \u001b[38;5;28mself\u001b[39m.if_exists == \u001b[33m\"\u001b[39m\u001b[33mfail\u001b[39m\u001b[33m\"\u001b[39m:\n\u001b[32m--> \u001b[39m\u001b[32m986\u001b[39m         \u001b[38;5;28;01mraise\u001b[39;00m \u001b[38;5;167;01mValueError\u001b[39;00m(\u001b[33mf\u001b[39m\u001b[33m\"\u001b[39m\u001b[33mTable \u001b[39m\u001b[33m'\u001b[39m\u001b[38;5;132;01m{\u001b[39;00m\u001b[38;5;28mself\u001b[39m.name\u001b[38;5;132;01m}\u001b[39;00m\u001b[33m'\u001b[39m\u001b[33m already exists.\u001b[39m\u001b[33m\"\u001b[39m)\n\u001b[32m    987\u001b[39m     \u001b[38;5;28;01mif\u001b[39;00m \u001b[38;5;28mself\u001b[39m.if_exists == \u001b[33m\"\u001b[39m\u001b[33mreplace\u001b[39m\u001b[33m\"\u001b[39m:\n\u001b[32m    988\u001b[39m         \u001b[38;5;28mself\u001b[39m.pd_sql.drop_table(\u001b[38;5;28mself\u001b[39m.name, \u001b[38;5;28mself\u001b[39m.schema)\n",
      "\u001b[31mValueError\u001b[39m: Table 'ADMISSIONS' already exists."
     ]
    }
   ],
   "source": [
    "import pandas as pd\n",
    "\n",
    "df = pd.read_csv('Data/ADMISSIONS.csv')\n",
    "df.to_sql(\"ADMISSIONS\", conn, index=False)\n",
    "\n",
    "df = pd.read_csv('Data/D_ICD_PROCEDURES.csv')\n",
    "df.to_sql(\"D_ICD_PROCEDURES\", conn, index=False)\n",
    "\n",
    "df = pd.read_csv('Data/DRGCODES.csv')\n",
    "df.to_sql(\"DRGCODES\", conn, index=False)\n",
    "\n",
    "df = pd.read_csv('Data/ICUSTAYS.csv')\n",
    "df.to_sql(\"ICUSTAYS\", conn, index=False)\n",
    "\n",
    "df = pd.read_csv('Data/PATIENTS.csv')\n",
    "df.to_sql(\"PATIENTS\", conn, index=False)\n",
    "\n",
    "df = pd.read_csv('Data/PRESCRIPTIONS.csv')\n",
    "df.to_sql(\"PRESCRIPTIONS\", conn, index=False)\n",
    "\n",
    "df = pd.read_csv('Data/PROCEDURES_ICD.csv')\n",
    "df.to_sql(\"PROCEDURES_ICD\", conn, index=False)\n",
    "conn.sql('SHOW TABLES')"
   ]
  },
  {
   "cell_type": "markdown",
   "id": "69ff8186",
   "metadata": {},
   "source": [
    "1) Create a summary of type of drugs and their total amount used by ethnicity. Report the top usage in each ethnicity group. You may have to make certain assumptions in calculating their total amount."
   ]
  },
  {
   "cell_type": "code",
   "execution_count": 4,
   "id": "96d38de3",
   "metadata": {},
   "outputs": [
    {
     "data": {
      "text/plain": [
       "┌──────────────────┬─────────────────────────────┬──────────────┐\n",
       "│    ethnicity     │            drug             │ count_star() │\n",
       "│     varchar      │           varchar           │    int64     │\n",
       "├──────────────────┼─────────────────────────────┼──────────────┤\n",
       "│ WHITE            │ Senna                       │           66 │\n",
       "│ WHITE            │ Aspirin                     │           44 │\n",
       "│ WHITE            │ Tamsulosin                  │            5 │\n",
       "│ WHITE            │ Docusate Sodium             │           67 │\n",
       "│ WHITE            │ Sodium Chloride 0.9%  Flush │          151 │\n",
       "│ WHITE            │ Albuterol Inhaler           │           14 │\n",
       "│ WHITE            │ Azithromycin                │           16 │\n",
       "│ WHITE            │ Oxycodone-Acetaminophen     │           18 │\n",
       "│ WHITE            │ Creon 10                    │            2 │\n",
       "│ WHITE            │ Ondansetron                 │           35 │\n",
       "│   ·              │    ·                        │            · │\n",
       "│   ·              │    ·                        │            · │\n",
       "│   ·              │    ·                        │            · │\n",
       "│ UNABLE TO OBTAIN │ D5 1/2NS                    │            3 │\n",
       "│ UNABLE TO OBTAIN │ 0.9% Sodium Chloride        │           28 │\n",
       "│ UNABLE TO OBTAIN │ Iso-Osmotic Dextrose        │            4 │\n",
       "│ UNABLE TO OBTAIN │ Sodium Bicarbonate          │            1 │\n",
       "│ UNABLE TO OBTAIN │ Pantoprazole Sodium         │            4 │\n",
       "│ UNABLE TO OBTAIN │ Vancomycin                  │            2 │\n",
       "│ UNABLE TO OBTAIN │ Magnesium Sulfate           │            2 │\n",
       "│ UNABLE TO OBTAIN │ Aspirin EC                  │            1 │\n",
       "│ UNABLE TO OBTAIN │ Acetylcysteine 20%          │            1 │\n",
       "│ WHITE            │ 0.83% Sodium Chloride       │            1 │\n",
       "├──────────────────┴─────────────────────────────┴──────────────┤\n",
       "│ 1260 rows (20 shown)                                3 columns │\n",
       "└───────────────────────────────────────────────────────────────┘"
      ]
     },
     "execution_count": 4,
     "metadata": {},
     "output_type": "execute_result"
    }
   ],
   "source": [
    "# prescriptions.drug & addmissions.ethnicity where subject_id and hadm_id are equal\n",
    "# types are MAIN/BASE/ADDITIVE\n",
    "query = conn.sql(\n",
    "    \"\"\"\n",
    "    SELECT ADMISSIONS.ethnicity, \n",
    "           PRESCRIPTIONS.drug,\n",
    "           count(*)\n",
    "    FROM PRESCRIPTIONS\n",
    "    JOIN ADMISSIONS\n",
    "        ON PRESCRIPTIONS.subject_id = ADMISSIONS.subject_id\n",
    "        AND PRESCRIPTIONS.hadm_id = ADMISSIONS.hadm_id\n",
    "    GROUP BY ADMISSIONS.ethnicity, PRESCRIPTIONS.drug\n",
    "    \"\"\"\n",
    ")\n",
    "query\n"
   ]
  },
  {
   "cell_type": "code",
   "execution_count": null,
   "id": "03955e61",
   "metadata": {},
   "outputs": [
    {
     "data": {
      "text/html": [
       "<div>\n",
       "<style scoped>\n",
       "    .dataframe tbody tr th:only-of-type {\n",
       "        vertical-align: middle;\n",
       "    }\n",
       "\n",
       "    .dataframe tbody tr th {\n",
       "        vertical-align: top;\n",
       "    }\n",
       "\n",
       "    .dataframe thead th {\n",
       "        text-align: right;\n",
       "    }\n",
       "</style>\n",
       "<table border=\"1\" class=\"dataframe\">\n",
       "  <thead>\n",
       "    <tr style=\"text-align: right;\">\n",
       "      <th></th>\n",
       "      <th>ethnicity</th>\n",
       "      <th>drug</th>\n",
       "      <th>count_star()</th>\n",
       "    </tr>\n",
       "  </thead>\n",
       "  <tbody>\n",
       "    <tr>\n",
       "      <th>585</th>\n",
       "      <td>AMERICAN INDIAN/ALASKA NATIVE FEDERALLY RECOGN...</td>\n",
       "      <td>5% Dextrose</td>\n",
       "      <td>27</td>\n",
       "    </tr>\n",
       "    <tr>\n",
       "      <th>687</th>\n",
       "      <td>ASIAN</td>\n",
       "      <td>D5W</td>\n",
       "      <td>27</td>\n",
       "    </tr>\n",
       "    <tr>\n",
       "      <th>978</th>\n",
       "      <td>BLACK/AFRICAN AMERICAN</td>\n",
       "      <td>Insulin</td>\n",
       "      <td>38</td>\n",
       "    </tr>\n",
       "    <tr>\n",
       "      <th>1188</th>\n",
       "      <td>HISPANIC OR LATINO</td>\n",
       "      <td>5% Dextrose</td>\n",
       "      <td>28</td>\n",
       "    </tr>\n",
       "    <tr>\n",
       "      <th>846</th>\n",
       "      <td>HISPANIC/LATINO - PUERTO RICAN</td>\n",
       "      <td>0.9% Sodium Chloride</td>\n",
       "      <td>86</td>\n",
       "    </tr>\n",
       "    <tr>\n",
       "      <th>795</th>\n",
       "      <td>OTHER</td>\n",
       "      <td>NS</td>\n",
       "      <td>11</td>\n",
       "    </tr>\n",
       "    <tr>\n",
       "      <th>1251</th>\n",
       "      <td>UNABLE TO OBTAIN</td>\n",
       "      <td>0.9% Sodium Chloride</td>\n",
       "      <td>28</td>\n",
       "    </tr>\n",
       "    <tr>\n",
       "      <th>83</th>\n",
       "      <td>UNKNOWN/NOT SPECIFIED</td>\n",
       "      <td>D5W</td>\n",
       "      <td>37</td>\n",
       "    </tr>\n",
       "    <tr>\n",
       "      <th>319</th>\n",
       "      <td>WHITE</td>\n",
       "      <td>Potassium Chloride</td>\n",
       "      <td>381</td>\n",
       "    </tr>\n",
       "  </tbody>\n",
       "</table>\n",
       "</div>"
      ],
      "text/plain": [
       "                                              ethnicity                  drug  \\\n",
       "585   AMERICAN INDIAN/ALASKA NATIVE FEDERALLY RECOGN...           5% Dextrose   \n",
       "687                                               ASIAN                   D5W   \n",
       "978                              BLACK/AFRICAN AMERICAN               Insulin   \n",
       "1188                                 HISPANIC OR LATINO           5% Dextrose   \n",
       "846                      HISPANIC/LATINO - PUERTO RICAN  0.9% Sodium Chloride   \n",
       "795                                               OTHER                    NS   \n",
       "1251                                   UNABLE TO OBTAIN  0.9% Sodium Chloride   \n",
       "83                                UNKNOWN/NOT SPECIFIED                   D5W   \n",
       "319                                               WHITE    Potassium Chloride   \n",
       "\n",
       "      count_star()  \n",
       "585             27  \n",
       "687             27  \n",
       "978             38  \n",
       "1188            28  \n",
       "846             86  \n",
       "795             11  \n",
       "1251            28  \n",
       "83              37  \n",
       "319            381  "
      ]
     },
     "execution_count": 5,
     "metadata": {},
     "output_type": "execute_result"
    }
   ],
   "source": [
    "df = query.df()\n",
    "\n",
    "# AMERICAN INDIAN/ALASKA NATIVE FEDERALLY RECOGN... ==== 5% Dextrose\n",
    "# ASIAN ==== DSW\n",
    "# BLACK?AFRICAN AMERICAN ==== Insuin\n",
    "# HISPANIC OR LATINO ==== 5% Dextrose\n",
    "# HISPANIC/LATINO - PUERTO RICAN ==== 0.9% Sodium Chloride\n",
    "# OTHER ==== NS\n",
    "# UNABLE TO OBTAIN ==== 0.9% Sodium Chloride\n",
    "# UNKNOWN/NOT SPECIFIED ==== DSW\n",
    "# WHITE ==== Potassium Chloride\n",
    "\n",
    "sorted = df.sort_values(by=[\"ethnicity\", \"count_star()\"], ascending=[True, False])\n",
    "sorted.groupby('ethnicity').head(1)"
   ]
  },
  {
   "cell_type": "markdown",
   "id": "f78fd5d2",
   "metadata": {},
   "source": [
    "2) Create a summary of procedures performed on patients by age groups (<=19, 20-49, 50-79, >80). Report the top three procedures, along with the name of the procedures, performed in each age group."
   ]
  },
  {
   "cell_type": "code",
   "execution_count": null,
   "id": "03eb6c14",
   "metadata": {},
   "outputs": [],
   "source": [
    "# start by adding age column to addmissions\n",
    "conn.sql(\"\"\"\n",
    "        ALTER TABLE ADMISSIONS DROP COLUMN age;\n",
    "        ALTER TABLE ADMISSIONS ADD COLUMN age INT;\n",
    "        \"\"\")\n",
    "\n",
    "conn.sql(\"\"\"\n",
    "        UPDATE ADMISSIONS\n",
    "        SET age = LEAST((CAST(ADMISSIONS.admittime as date) - CAST(PATIENTS.dob as date))/365.25, 89)\n",
    "        FROM PATIENTS\n",
    "        WHERE ADMISSIONS.subject_id = PATIENTS.subject_id\n",
    "        \"\"\")\n",
    "\n",
    "conn.sql(\"\"\"\n",
    "        SELECT age\n",
    "        FROM admissions\n",
    "        \"\"\")\n"
   ]
  },
  {
   "cell_type": "code",
   "execution_count": 60,
   "id": "dcbf9985",
   "metadata": {},
   "outputs": [
    {
     "data": {
      "text/html": [
       "<div>\n",
       "<style scoped>\n",
       "    .dataframe tbody tr th:only-of-type {\n",
       "        vertical-align: middle;\n",
       "    }\n",
       "\n",
       "    .dataframe tbody tr th {\n",
       "        vertical-align: top;\n",
       "    }\n",
       "\n",
       "    .dataframe thead th {\n",
       "        text-align: right;\n",
       "    }\n",
       "</style>\n",
       "<table border=\"1\" class=\"dataframe\">\n",
       "  <thead>\n",
       "    <tr style=\"text-align: right;\">\n",
       "      <th></th>\n",
       "      <th>short_title</th>\n",
       "      <th>count_star()</th>\n",
       "    </tr>\n",
       "  </thead>\n",
       "  <tbody>\n",
       "    <tr>\n",
       "      <th>4</th>\n",
       "      <td>Venous cath NEC</td>\n",
       "      <td>2</td>\n",
       "    </tr>\n",
       "    <tr>\n",
       "      <th>1</th>\n",
       "      <td>Cl fx reduc-femur</td>\n",
       "      <td>1</td>\n",
       "    </tr>\n",
       "    <tr>\n",
       "      <th>0</th>\n",
       "      <td>Incision of lung</td>\n",
       "      <td>1</td>\n",
       "    </tr>\n",
       "  </tbody>\n",
       "</table>\n",
       "</div>"
      ],
      "text/plain": [
       "         short_title  count_star()\n",
       "4    Venous cath NEC             2\n",
       "1  Cl fx reduc-femur             1\n",
       "0   Incision of lung             1"
      ]
     },
     "execution_count": 60,
     "metadata": {},
     "output_type": "execute_result"
    }
   ],
   "source": [
    "# <= 19 query\n",
    "df = conn.sql(\n",
    "    \"\"\"\n",
    "    SELECT D_ICD_PROCEDURES.short_title,\n",
    "           count(*)\n",
    "    FROM D_ICD_PROCEDURES\n",
    "    JOIN PROCEDURES_ICD\n",
    "        ON PROCEDURES_ICD.icd9_code = D_ICD_PROCEDURES.icd9_code\n",
    "        JOIN ADMISSIONS\n",
    "            ON PROCEDURES_ICD.subject_id = ADMISSIONS.subject_id\n",
    "            AND PROCEDURES_ICD.hadm_id = ADMISSIONS.hadm_id\n",
    "            AND ADMISSIONS.age <= 19\n",
    "    GROUP BY D_ICD_PROCEDURES.short_title\n",
    "    \"\"\"\n",
    ").df()\n",
    "df.sort_values('count_star()', ascending=False).head(3)"
   ]
  },
  {
   "cell_type": "code",
   "execution_count": 62,
   "id": "86c970c8",
   "metadata": {},
   "outputs": [
    {
     "data": {
      "text/html": [
       "<div>\n",
       "<style scoped>\n",
       "    .dataframe tbody tr th:only-of-type {\n",
       "        vertical-align: middle;\n",
       "    }\n",
       "\n",
       "    .dataframe tbody tr th {\n",
       "        vertical-align: top;\n",
       "    }\n",
       "\n",
       "    .dataframe thead th {\n",
       "        text-align: right;\n",
       "    }\n",
       "</style>\n",
       "<table border=\"1\" class=\"dataframe\">\n",
       "  <thead>\n",
       "    <tr style=\"text-align: right;\">\n",
       "      <th></th>\n",
       "      <th>short_title</th>\n",
       "      <th>count_star()</th>\n",
       "    </tr>\n",
       "  </thead>\n",
       "  <tbody>\n",
       "    <tr>\n",
       "      <th>16</th>\n",
       "      <td>Venous cath NEC</td>\n",
       "      <td>9</td>\n",
       "    </tr>\n",
       "    <tr>\n",
       "      <th>23</th>\n",
       "      <td>Entral infus nutrit sub</td>\n",
       "      <td>7</td>\n",
       "    </tr>\n",
       "    <tr>\n",
       "      <th>4</th>\n",
       "      <td>Percu abdominal drainage</td>\n",
       "      <td>6</td>\n",
       "    </tr>\n",
       "  </tbody>\n",
       "</table>\n",
       "</div>"
      ],
      "text/plain": [
       "                 short_title  count_star()\n",
       "16           Venous cath NEC             9\n",
       "23   Entral infus nutrit sub             7\n",
       "4   Percu abdominal drainage             6"
      ]
     },
     "execution_count": 62,
     "metadata": {},
     "output_type": "execute_result"
    }
   ],
   "source": [
    "# 20-49 query\n",
    "df = conn.sql(\n",
    "    \"\"\"\n",
    "    SELECT D_ICD_PROCEDURES.short_title,\n",
    "           count(*)\n",
    "    FROM D_ICD_PROCEDURES\n",
    "    JOIN PROCEDURES_ICD\n",
    "        ON PROCEDURES_ICD.icd9_code = D_ICD_PROCEDURES.icd9_code\n",
    "        JOIN ADMISSIONS\n",
    "            ON PROCEDURES_ICD.subject_id = ADMISSIONS.subject_id\n",
    "            AND PROCEDURES_ICD.hadm_id = ADMISSIONS.hadm_id\n",
    "            AND ADMISSIONS.age >= 20\n",
    "            AND ADMISSIONS.age <= 49\n",
    "    GROUP BY D_ICD_PROCEDURES.short_title\n",
    "    \"\"\"\n",
    ").df()\n",
    "df.sort_values('count_star()', ascending=False).head(3)"
   ]
  },
  {
   "cell_type": "code",
   "execution_count": 63,
   "id": "2263e1d4",
   "metadata": {},
   "outputs": [
    {
     "data": {
      "text/html": [
       "<div>\n",
       "<style scoped>\n",
       "    .dataframe tbody tr th:only-of-type {\n",
       "        vertical-align: middle;\n",
       "    }\n",
       "\n",
       "    .dataframe tbody tr th {\n",
       "        vertical-align: top;\n",
       "    }\n",
       "\n",
       "    .dataframe thead th {\n",
       "        text-align: right;\n",
       "    }\n",
       "</style>\n",
       "<table border=\"1\" class=\"dataframe\">\n",
       "  <thead>\n",
       "    <tr style=\"text-align: right;\">\n",
       "      <th></th>\n",
       "      <th>short_title</th>\n",
       "      <th>count_star()</th>\n",
       "    </tr>\n",
       "  </thead>\n",
       "  <tbody>\n",
       "    <tr>\n",
       "      <th>27</th>\n",
       "      <td>Venous cath NEC</td>\n",
       "      <td>25</td>\n",
       "    </tr>\n",
       "    <tr>\n",
       "      <th>46</th>\n",
       "      <td>Entral infus nutrit sub</td>\n",
       "      <td>22</td>\n",
       "    </tr>\n",
       "    <tr>\n",
       "      <th>18</th>\n",
       "      <td>Packed cell transfusion</td>\n",
       "      <td>13</td>\n",
       "    </tr>\n",
       "  </tbody>\n",
       "</table>\n",
       "</div>"
      ],
      "text/plain": [
       "                short_title  count_star()\n",
       "27          Venous cath NEC            25\n",
       "46  Entral infus nutrit sub            22\n",
       "18  Packed cell transfusion            13"
      ]
     },
     "execution_count": 63,
     "metadata": {},
     "output_type": "execute_result"
    }
   ],
   "source": [
    "# 50-79 query\n",
    "df = conn.sql(\n",
    "    \"\"\"\n",
    "    SELECT D_ICD_PROCEDURES.short_title,\n",
    "           count(*)\n",
    "    FROM D_ICD_PROCEDURES\n",
    "    JOIN PROCEDURES_ICD\n",
    "        ON PROCEDURES_ICD.icd9_code = D_ICD_PROCEDURES.icd9_code\n",
    "        JOIN ADMISSIONS\n",
    "            ON PROCEDURES_ICD.subject_id = ADMISSIONS.subject_id\n",
    "            AND PROCEDURES_ICD.hadm_id = ADMISSIONS.hadm_id\n",
    "            AND ADMISSIONS.age >= 50\n",
    "            AND ADMISSIONS.age <= 79\n",
    "    GROUP BY D_ICD_PROCEDURES.short_title\n",
    "    \"\"\"\n",
    ").df()\n",
    "df.sort_values('count_star()', ascending=False).head(3)"
   ]
  },
  {
   "cell_type": "code",
   "execution_count": 64,
   "id": "d4748b52",
   "metadata": {},
   "outputs": [
    {
     "data": {
      "text/html": [
       "<div>\n",
       "<style scoped>\n",
       "    .dataframe tbody tr th:only-of-type {\n",
       "        vertical-align: middle;\n",
       "    }\n",
       "\n",
       "    .dataframe tbody tr th {\n",
       "        vertical-align: top;\n",
       "    }\n",
       "\n",
       "    .dataframe thead th {\n",
       "        text-align: right;\n",
       "    }\n",
       "</style>\n",
       "<table border=\"1\" class=\"dataframe\">\n",
       "  <thead>\n",
       "    <tr style=\"text-align: right;\">\n",
       "      <th></th>\n",
       "      <th>short_title</th>\n",
       "      <th>count_star()</th>\n",
       "    </tr>\n",
       "  </thead>\n",
       "  <tbody>\n",
       "    <tr>\n",
       "      <th>20</th>\n",
       "      <td>Venous cath NEC</td>\n",
       "      <td>20</td>\n",
       "    </tr>\n",
       "    <tr>\n",
       "      <th>10</th>\n",
       "      <td>Packed cell transfusion</td>\n",
       "      <td>13</td>\n",
       "    </tr>\n",
       "    <tr>\n",
       "      <th>49</th>\n",
       "      <td>Insert endotracheal tube</td>\n",
       "      <td>8</td>\n",
       "    </tr>\n",
       "  </tbody>\n",
       "</table>\n",
       "</div>"
      ],
      "text/plain": [
       "                 short_title  count_star()\n",
       "20           Venous cath NEC            20\n",
       "10   Packed cell transfusion            13\n",
       "49  Insert endotracheal tube             8"
      ]
     },
     "execution_count": 64,
     "metadata": {},
     "output_type": "execute_result"
    }
   ],
   "source": [
    "# >= 80 query\n",
    "df = conn.sql(\n",
    "    \"\"\"\n",
    "    SELECT D_ICD_PROCEDURES.short_title,\n",
    "           count(*)\n",
    "    FROM D_ICD_PROCEDURES\n",
    "    JOIN PROCEDURES_ICD\n",
    "        ON PROCEDURES_ICD.icd9_code = D_ICD_PROCEDURES.icd9_code\n",
    "        JOIN ADMISSIONS\n",
    "            ON PROCEDURES_ICD.subject_id = ADMISSIONS.subject_id\n",
    "            AND PROCEDURES_ICD.hadm_id = ADMISSIONS.hadm_id\n",
    "            AND ADMISSIONS.age >= 80\n",
    "    GROUP BY D_ICD_PROCEDURES.short_title\n",
    "    \"\"\"\n",
    ").df()\n",
    "df.sort_values('count_star()', ascending=False).head(3)"
   ]
  },
  {
   "cell_type": "markdown",
   "id": "66c8f162",
   "metadata": {},
   "source": [
    "3) How long do patients stay in the ICU? Is there a difference in the ICU length of stay among gender or ethnicity?"
   ]
  },
  {
   "cell_type": "code",
   "execution_count": null,
   "id": "967dcb46",
   "metadata": {},
   "outputs": [],
   "source": [
    "# create column to take days in ICU\n",
    "# start by adding days column to addmissions\n",
    "conn.sql(\"\"\"\n",
    "        ALTER TABLE ICUSTAYS DROP COLUMN days;\n",
    "        ALTER TABLE ICUSTAYS ADD COLUMN days INT;\n",
    "        \"\"\")\n",
    "\n",
    "conn.sql(\"\"\"\n",
    "        UPDATE ICUSTAYS\n",
    "        SET days = CAST(ICUSTAYS.outtime as date) - CAST(ICUSTAYS.intime as date)\n",
    "        \"\"\")\n",
    "\n",
    "conn.sql(\"\"\"\n",
    "        SELECT days\n",
    "        FROM ICUSTAYS\n",
    "        \"\"\")"
   ]
  },
  {
   "cell_type": "code",
   "execution_count": 79,
   "id": "4b1667b2",
   "metadata": {},
   "outputs": [
    {
     "data": {
      "text/plain": [
       "┌─────────┬──────────────────────┐\n",
       "│ gender  │ average_stay_in_days │\n",
       "│ varchar │        double        │\n",
       "├─────────┼──────────────────────┤\n",
       "│ F       │    5.476190476190476 │\n",
       "│ M       │   3.5205479452054793 │\n",
       "└─────────┴──────────────────────┘"
      ]
     },
     "execution_count": 79,
     "metadata": {},
     "output_type": "execute_result"
    }
   ],
   "source": [
    "# now lets take the days in icu and group by gender\n",
    "conn.sql(\"\"\"\n",
    "        SELECT PATIENTS.gender,\n",
    "              AVG(ICUSTAYS.days) AS average_stay_in_days\n",
    "         FROM ICUSTAYS\n",
    "         JOIN PATIENTS\n",
    "              ON ICUSTAYS.subject_id = PATIENTS.subject_id\n",
    "         GROUP BY PATIENTS.gender\n",
    "         \"\"\")"
   ]
  },
  {
   "cell_type": "code",
   "execution_count": 81,
   "id": "9a4af73c",
   "metadata": {},
   "outputs": [
    {
     "data": {
      "text/plain": [
       "┌──────────────────────────────────────────────────────────┬──────────────────────┐\n",
       "│                        ethnicity                         │ average_stay_in_days │\n",
       "│                         varchar                          │        double        │\n",
       "├──────────────────────────────────────────────────────────┼──────────────────────┤\n",
       "│ UNKNOWN/NOT SPECIFIED                                    │    4.461538461538462 │\n",
       "│ ASIAN                                                    │                  4.0 │\n",
       "│ BLACK/AFRICAN AMERICAN                                   │    6.888888888888889 │\n",
       "│ OTHER                                                    │                  1.0 │\n",
       "│ HISPANIC OR LATINO                                       │    7.333333333333333 │\n",
       "│ UNABLE TO OBTAIN                                         │                 14.0 │\n",
       "│ AMERICAN INDIAN/ALASKA NATIVE FEDERALLY RECOGNIZED TRIBE │                 11.5 │\n",
       "│ WHITE                                                    │    4.024590163934426 │\n",
       "│ HISPANIC/LATINO - PUERTO RICAN                           │   3.2666666666666666 │\n",
       "└──────────────────────────────────────────────────────────┴──────────────────────┘"
      ]
     },
     "execution_count": 81,
     "metadata": {},
     "output_type": "execute_result"
    }
   ],
   "source": [
    "# now lets take the days in icu and group by ethnicity\n",
    "conn.sql(\"\"\"\n",
    "        SELECT ADMISSIONS.ethnicity,\n",
    "              AVG(ICUSTAYS.days) AS average_stay_in_days\n",
    "         FROM ICUSTAYS\n",
    "         JOIN ADMISSIONS\n",
    "              ON ICUSTAYS.subject_id = ADMISSIONS.subject_id\n",
    "         GROUP BY ADMISSIONS.ethnicity\n",
    "         \"\"\")"
   ]
  },
  {
   "cell_type": "code",
   "execution_count": 82,
   "id": "26c037d0",
   "metadata": {},
   "outputs": [],
   "source": [
    "conn.close()"
   ]
  },
  {
   "cell_type": "code",
   "execution_count": null,
   "id": "42b51f35",
   "metadata": {},
   "outputs": [],
   "source": [
    "from cassandra.cluster import Cluster\n",
    "from ssl import SSLContext, PROTOCOL_TLSv1_2, CERT_REQUIRED\n",
    "from cassandra_sigv4.auth import SigV4AuthProvider\n",
    "import boto3\n",
    "\n",
    "# ssl setup\n",
    "ssl_context = SSLContext(PROTOCOL_TLSv1_2)\n",
    "ssl_context.load_verify_locations('/home/ubuntu/sf-class2-root.crt')  # change your file path for locating the certificate\n",
    "ssl_context.verify_mode = CERT_REQUIRED\n",
    "\n",
    "# boto3 session setup\n",
    "boto_session = boto3.Session(region_name=\"us-east-2\")  # this AWS credentials is specific to `us-east-2` region"
   ]
  },
  {
   "cell_type": "code",
   "execution_count": null,
   "id": "a53db8a9",
   "metadata": {},
   "outputs": [],
   "source": [
    "# authorization setup with SigV4\n",
    "auth_provider = SigV4AuthProvider(boto_session)"
   ]
  },
  {
   "cell_type": "code",
   "execution_count": null,
   "id": "ec881874",
   "metadata": {},
   "outputs": [],
   "source": [
    "#cluster setup \n",
    "cluster = Cluster(['cassandra.us-east-2.amazonaws.com'], \n",
    "                  ssl_context=ssl_context, \n",
    "                  auth_provider=auth_provider, \n",
    "                  port=9142)  # TLS only communicates on port 9142"
   ]
  },
  {
   "cell_type": "code",
   "execution_count": null,
   "id": "4cd657b0",
   "metadata": {},
   "outputs": [],
   "source": [
    "# establishing connection to Keyspace\n",
    "session = cluster.connect()\n",
    "# Insert any CQL queries between .connect() and .shutdown()"
   ]
  },
  {
   "cell_type": "code",
   "execution_count": null,
   "id": "db6a264b",
   "metadata": {},
   "outputs": [],
   "source": [
    "# For example, show all keyspaces created\n",
    "r = session.execute('''\n",
    "    SELECT * FROM system_schema.keyspaces;\n",
    "    ''')\n",
    "print(r.current_rows)"
   ]
  },
  {
   "cell_type": "code",
   "execution_count": null,
   "id": "80aaf3ff",
   "metadata": {},
   "outputs": [],
   "source": [
    "# For example, create a keyspace for HW2\n",
    "r = session.execute('''\n",
    "    CREATE KEYSPACE IF NOT EXISTS csn4634_hw2 \n",
    "    WITH replication = {'class': 'SingleRegionStrategy'};\n",
    "    ''')\n",
    "print(r.current_rows)"
   ]
  },
  {
   "cell_type": "code",
   "execution_count": null,
   "id": "e3c16c9b",
   "metadata": {},
   "outputs": [],
   "source": [
    "from cassandra.cluster import ExecutionProfile, EXEC_PROFILE_DEFAULT\n",
    "from cassandra import ConsistencyLevel\n",
    "\n",
    "\n",
    "# Define execution profile with LOCAL_QUORUM\n",
    "execution_profile = ExecutionProfile(\n",
    "    consistency_level=ConsistencyLevel.LOCAL_QUORUM\n",
    ")\n",
    "\n",
    "# Cluster setup with correct profile\n",
    "cluster = Cluster(\n",
    "    ['cassandra.us-east-2.amazonaws.com'],\n",
    "    ssl_context=ssl_context,\n",
    "    auth_provider=auth_provider,\n",
    "    port=9142,\n",
    "    execution_profiles={EXEC_PROFILE_DEFAULT: execution_profile}\n",
    ")\n",
    "\n",
    "# establishing connection to Keyspace\n",
    "session = cluster.connect()\n",
    "session.set_keyspace('csn4634_hw2')  "
   ]
  },
  {
   "cell_type": "code",
   "execution_count": null,
   "id": "ce5926d8",
   "metadata": {},
   "outputs": [],
   "source": [
    "# creating table\n",
    "session.execute(\"\"\"\n",
    "CREATE TABLE IF NOT EXISTS q1 (\n",
    "    ethnicity TEXT PRIMARY KEY,\n",
    "    drug TEXT,\n",
    "    count INT,\n",
    ");\n",
    "\"\"\")"
   ]
  },
  {
   "cell_type": "code",
   "execution_count": null,
   "id": "5a372c26",
   "metadata": {},
   "outputs": [],
   "source": [
    "# time to fill table\n",
    "import pandas as pd\n",
    "pres = pd.read_csv(\"Data/PRESCRIPTIONS.csv\")\n",
    "ads = pd.read_csv(\"Data/ADMISSIONS.csv\")\n",
    "\n",
    "combo = pd.merge(pres, ads[['subject_id', 'hadm_id', 'ethnicity']], on=['subject_id', 'hadm_id'], how = 'inner')\n",
    "counts = combo.groupby(['ethnicity', 'drug']).size().reset_index(name = 'count')\n",
    "top_counts = counts.sort_values(['ethnicity','count'], ascending = [True,False]).groupby('ethnicity').first().reset_index()\n",
    "\n",
    "#insert row by row\n",
    "for _, row in top_counts.iterrows():\n",
    "    session.execute(\n",
    "        \"\"\"\n",
    "        INSERT INTO q1 (ethnicity, drug, count)\n",
    "        VALUES (%s, %s, %s)\n",
    "        \"\"\",\n",
    "        (row['ethnicity'], row['drug'], int(row['count']))\n",
    "    )\n"
   ]
  },
  {
   "cell_type": "code",
   "execution_count": null,
   "id": "ec03d463",
   "metadata": {},
   "outputs": [],
   "source": [
    "# now query\n",
    "ethnicities =session.execute(\"\"\" SELECT * FROM q1 \"\"\")\n",
    "for ethnicity in ethnicities:\n",
    "    print(\"The most common drug for those of ethnicity {\" + ethnicity.ethnicity + \"} is {\" + ethnicity.drug + \"}\")"
   ]
  },
  {
   "cell_type": "code",
   "execution_count": null,
   "id": "3ad3e4bd",
   "metadata": {},
   "outputs": [],
   "source": [
    "# create table\n",
    "session.set_keyspace('csn4634_hw2')\n",
    "session.execute(\"\"\"\n",
    "CREATE TABLE IF NOT EXISTS q2 (\n",
    "    age_range TEXT,\n",
    "    icd9_code TEXT,\n",
    "    count INT,\n",
    "    PRIMARY KEY (age_range, icd9_code)\n",
    ");\n",
    "\"\"\")"
   ]
  },
  {
   "cell_type": "code",
   "execution_count": null,
   "id": "bf9db4f4",
   "metadata": {},
   "outputs": [],
   "source": [
    "# add age to admissions\n",
    "import pandas as pd\n",
    "\n",
    "admissions = pd.read_csv('Data/ADMISSIONS.csv')\n",
    "patients = pd.read_csv('Data/PATIENTS.csv')\n",
    "d_icd_procedures = pd.read_csv('Data/D_ICD_PROCEDURES.csv')\n",
    "procedures_icd = pd.read_csv('Data/PROCEDURES_ICD.csv')\n",
    "\n",
    "admissions = admissions.merge(patients[['subject_id', 'dob']], on='subject_id', how='left')\n",
    "def getYear(x):\n",
    "    x = pd.to_datetime(x)\n",
    "    return x.year\n",
    "admissions['age'] = admissions['admittime'].apply(getYear) - admissions['dob'].apply(getYear)\n",
    "\n"
   ]
  },
  {
   "cell_type": "code",
   "execution_count": null,
   "id": "f1fcfdc3",
   "metadata": {},
   "outputs": [],
   "source": [
    "def categorize_age(age):\n",
    "    if age <= 19:\n",
    "        return '<=19'\n",
    "    elif 20 <= age <= 49:\n",
    "        return '20-49'\n",
    "    elif 50 <= age <= 79:\n",
    "        return '50-79'\n",
    "    else:\n",
    "        return '>=80'\n",
    "\n",
    "admissions['age_range'] = admissions['age'].apply(categorize_age)\n",
    "\n",
    "admissions_procedures = admissions.merge(procedures_icd[['subject_id', 'icd9_code', 'hadm_id']], on=['subject_id', 'hadm_id'], how='left')\n",
    "\n",
    "age_group_procedure_count = admissions_procedures.groupby(['age_range', 'icd9_code']).size().reset_index(name='count')\n",
    "\n",
    "top_procedures = age_group_procedure_count.groupby('age_range').apply(lambda x: x.nlargest(3, 'count')).reset_index(drop=True)\n",
    "top_procedures['icd9_code'] = top_procedures['icd9_code'].apply(lambda x: str(int(x)) if isinstance(x, float) else str(x))\n",
    "\n",
    "\n",
    "insert_query = \"\"\"\n",
    "    INSERT INTO q2 (age_range, icd9_code, count)\n",
    "    VALUES (%s, %s, %s)\n",
    "\"\"\"\n",
    "session.set_keyspace('csn4634_hw2')\n",
    "\n",
    "for index, row in top_procedures.iterrows():\n",
    "    session.execute(insert_query, (row['age_range'], row['icd9_code'], row['count']))\n"
   ]
  },
  {
   "cell_type": "code",
   "execution_count": null,
   "id": "bd844463",
   "metadata": {},
   "outputs": [],
   "source": [
    "# Load the d_icd_procedures.csv to get procedure names\n",
    "d_icd_procedures = pd.read_csv('Data/D_ICD_PROCEDURES.csv')\n",
    "\n",
    "# Make sure codes are strings and clean\n",
    "d_icd_procedures['icd9_code'] = d_icd_procedures['icd9_code'].astype(str).str.strip()\n",
    "\n",
    "# Build a dictionary for fast lookup\n",
    "procedure_dict = dict(zip(d_icd_procedures['icd9_code'], d_icd_procedures['short_title']))\n",
    "\n",
    "\n",
    "age_ranges = ['<=19', '20-49', '50-79', '>=80']\n",
    "\n",
    "for age_range in age_ranges:\n",
    "    result = session.execute(\"\"\"\n",
    "        SELECT icd9_code, count\n",
    "        FROM q2\n",
    "        WHERE age_range = %s\n",
    "    \"\"\", (age_range,))\n",
    "\n",
    "    \n",
    "    # Sort the results by 'count' to get the top 3 procedures\n",
    "    sorted_result = sorted(result, key=lambda row: row.count, reverse=True)[:3]\n",
    "    \n",
    "    print(f\"Top 3 Procedures for Age Range {age_range}:\")\n",
    "    for row in sorted_result:\n",
    "        icd9_code = row.icd9_code\n",
    "        procedure_name = d_icd_procedures[d_icd_procedures['icd9_code'] == icd9_code]['short_title'].iloc[0]\n",
    "        print(f\"ICD9 Code: {icd9_code}, Procedure Name: {procedure_name}, Count: {row.count}\")\n",
    "    print()\n"
   ]
  },
  {
   "cell_type": "code",
   "execution_count": null,
   "id": "807f9cf0",
   "metadata": {},
   "outputs": [],
   "source": [
    "#make table\n",
    "session.execute(\"DROP TABLE IF EXISTS q3\")\n",
    "\n",
    "session.execute(\"\"\"\n",
    "CREATE TABLE IF NOT EXISTS q3(\n",
    "    demographic TEXT,\n",
    "    time_in_icu DOUBLE,\n",
    "    PRIMARY KEY (demographic)\n",
    ");\n",
    "\"\"\")"
   ]
  },
  {
   "cell_type": "code",
   "execution_count": null,
   "id": "be18aaae",
   "metadata": {},
   "outputs": [],
   "source": [
    "# fill table\n",
    "icustays = pd.read_csv('Data/ICUSTAYS.csv')\n",
    "patients = pd.read_csv('Data/PATIENTS.csv')\n",
    "\n",
    "merged = icustays.merge(patients[['subject_id', 'gender']], on='subject_id', how='left')\n",
    "merged['intime'] = pd.to_datetime(merged['intime'])\n",
    "merged['outtime'] = pd.to_datetime(merged['outtime'])\n",
    "\n",
    "merged['time_in_icu'] = (merged['outtime'] - merged['intime']).dt.days\n",
    "\n",
    "insert = \"\"\"\n",
    "    INSERT INTO q3 (demographic, time_in_icu)\n",
    "    VALUES (%s, %s)\n",
    "\"\"\"\n",
    "per_gender = merged.groupby('gender')['time_in_icu'].mean()\n",
    "\n",
    "session.execute(insert, ('M', per_gender[0]))\n",
    "session.execute(insert, ('F', per_gender[1]))\n",
    "\n",
    "admissions = pd.read_csv('Data/ADMISSIONS.csv')\n",
    "\n",
    "merged = icustays.merge(admissions[['subject_id', 'ethnicity']], on='subject_id', how='left')\n",
    "merged['intime'] = pd.to_datetime(merged['intime'])\n",
    "merged['outtime'] = pd.to_datetime(merged['outtime'])\n",
    "\n",
    "merged['time_in_icu'] = (merged['outtime'] - merged['intime']).dt.days\n",
    "\n",
    "per_ethnicity = merged.groupby('ethnicity')['time_in_icu'].mean()\n",
    "i = 0\n",
    "for ethnic in merged['ethnicity'].unique():\n",
    "    session.execute(insert, (ethnic, per_ethnicity[i]))\n",
    "    i += 1"
   ]
  },
  {
   "cell_type": "code",
   "execution_count": null,
   "id": "c6882436",
   "metadata": {},
   "outputs": [],
   "source": [
    "#query\n",
    "demographics = set(merged['ethnicity'].unique()) | ( set(patients['gender'].unique()))\n",
    "for demo in demographics:\n",
    "    query = \"SELECT time_in_icu FROM q3 WHERE demographic = %s\"\n",
    "    result = session.execute(query, (demo,))\n",
    "    for row in result:\n",
    "        print(f\"Mean ICU time for {demo} is {row.time_in_icu}\")"
   ]
  },
  {
   "cell_type": "code",
   "execution_count": null,
   "id": "083271b2",
   "metadata": {},
   "outputs": [],
   "source": [
    "session.shutdown()\n",
    "cluster.shutdown()\n"
   ]
  }
 ],
 "metadata": {
  "kernelspec": {
   "display_name": "dse300",
   "language": "python",
   "name": "python3"
  },
  "language_info": {
   "codemirror_mode": {
    "name": "ipython",
    "version": 3
   },
   "file_extension": ".py",
   "mimetype": "text/x-python",
   "name": "python",
   "nbconvert_exporter": "python",
   "pygments_lexer": "ipython3",
   "version": "3.11.11"
  }
 },
 "nbformat": 4,
 "nbformat_minor": 5
}
