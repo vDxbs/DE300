{
 "cells": [
  {
   "cell_type": "code",
   "execution_count": 3,
   "id": "ac189197-bde5-4a02-bced-21499003e75d",
   "metadata": {},
   "outputs": [
    {
     "name": "stderr",
     "output_type": "stream",
     "text": [
      "/tmp/ipykernel_2103/3323863445.py:7: DeprecationWarning: ssl.PROTOCOL_TLSv1_2 is deprecated\n",
      "  ssl_context = SSLContext(PROTOCOL_TLSv1_2)\n"
     ]
    }
   ],
   "source": [
    "from cassandra.cluster import Cluster\n",
    "from ssl import SSLContext, PROTOCOL_TLSv1_2, CERT_REQUIRED\n",
    "from cassandra_sigv4.auth import SigV4AuthProvider\n",
    "import boto3\n",
    "\n",
    "# ssl setup\n",
    "ssl_context = SSLContext(PROTOCOL_TLSv1_2)\n",
    "ssl_context.load_verify_locations('/home/ubuntu/sf-class2-root.crt')  # change your file path for locating the certificate\n",
    "ssl_context.verify_mode = CERT_REQUIRED\n",
    "\n",
    "# boto3 session setup\n",
    "boto_session = boto3.Session(region_name=\"us-east-2\")  # this AWS credentials is specific to `us-east-2` region"
   ]
  },
  {
   "cell_type": "code",
   "execution_count": 4,
   "id": "9cff0b87-b022-4cd8-8369-8b9f3a4961af",
   "metadata": {},
   "outputs": [],
   "source": [
    "# authorization setup with SigV4\n",
    "auth_provider = SigV4AuthProvider(boto_session)"
   ]
  },
  {
   "cell_type": "code",
   "execution_count": 5,
   "id": "45afe9ad-f153-4dc4-9685-85613644287d",
   "metadata": {},
   "outputs": [],
   "source": [
    "#cluster setup \n",
    "cluster = Cluster(['cassandra.us-east-2.amazonaws.com'], \n",
    "                  ssl_context=ssl_context, \n",
    "                  auth_provider=auth_provider, \n",
    "                  port=9142)  # TLS only communicates on port 9142"
   ]
  },
  {
   "cell_type": "code",
   "execution_count": 6,
   "id": "59e86fb5-ed28-448a-b2f7-ff004e8e687e",
   "metadata": {},
   "outputs": [],
   "source": [
    "# establishing connection to Keyspace\n",
    "session = cluster.connect()\n",
    "# Insert any CQL queries between .connect() and .shutdown()"
   ]
  },
  {
   "cell_type": "code",
   "execution_count": 9,
   "id": "d578c54d-f525-4202-b154-05826098d344",
   "metadata": {},
   "outputs": [
    {
     "name": "stdout",
     "output_type": "stream",
     "text": [
      "[Row(keyspace_name='system_schema', durable_writes=True, replication=OrderedMapSerializedKey([('class', 'org.apache.cassandra.locator.SimpleStrategy'), ('replication_factor', '3')])), Row(keyspace_name='system_schema_mcs', durable_writes=True, replication=OrderedMapSerializedKey([('class', 'org.apache.cassandra.locator.SimpleStrategy'), ('replication_factor', '3')])), Row(keyspace_name='system', durable_writes=True, replication=OrderedMapSerializedKey([('class', 'org.apache.cassandra.locator.SimpleStrategy'), ('replication_factor', '3')])), Row(keyspace_name='system_multiregion_info', durable_writes=True, replication=OrderedMapSerializedKey([('class', 'org.apache.cassandra.locator.SimpleStrategy'), ('replication_factor', '3')])), Row(keyspace_name='aet7207_hw2', durable_writes=True, replication=OrderedMapSerializedKey([('class', 'org.apache.cassandra.locator.SimpleStrategy'), ('replication_factor', '3')])), Row(keyspace_name='atb2199_ks', durable_writes=True, replication=OrderedMapSerializedKey([('class', 'org.apache.cassandra.locator.SimpleStrategy'), ('replication_factor', '3')])), Row(keyspace_name='aye8078_hw2', durable_writes=True, replication=OrderedMapSerializedKey([('class', 'org.apache.cassandra.locator.SimpleStrategy'), ('replication_factor', '3')])), Row(keyspace_name='aye_DE300_demo', durable_writes=True, replication=OrderedMapSerializedKey([('class', 'org.apache.cassandra.locator.SimpleStrategy'), ('replication_factor', '3')])), Row(keyspace_name='can1469_hw02', durable_writes=True, replication=OrderedMapSerializedKey([('class', 'org.apache.cassandra.locator.SimpleStrategy'), ('replication_factor', '3')])), Row(keyspace_name='csn4634_hw2', durable_writes=True, replication=OrderedMapSerializedKey([('class', 'org.apache.cassandra.locator.SimpleStrategy'), ('replication_factor', '3')])), Row(keyspace_name='de300', durable_writes=True, replication=OrderedMapSerializedKey([('class', 'org.apache.cassandra.locator.SimpleStrategy'), ('replication_factor', '3')])), Row(keyspace_name='de300_axc4282', durable_writes=True, replication=OrderedMapSerializedKey([('class', 'org.apache.cassandra.locator.SimpleStrategy'), ('replication_factor', '3')])), Row(keyspace_name='de300_axc4282_hw2', durable_writes=True, replication=OrderedMapSerializedKey([('class', 'org.apache.cassandra.locator.SimpleStrategy'), ('replication_factor', '3')])), Row(keyspace_name='de300_demo', durable_writes=True, replication=OrderedMapSerializedKey([('class', 'org.apache.cassandra.locator.SimpleStrategy'), ('replication_factor', '3')])), Row(keyspace_name='de300_homework2', durable_writes=True, replication=OrderedMapSerializedKey([('class', 'org.apache.cassandra.locator.SimpleStrategy'), ('replication_factor', '3')])), Row(keyspace_name='de300_hw2', durable_writes=True, replication=OrderedMapSerializedKey([('class', 'org.apache.cassandra.locator.SimpleStrategy'), ('replication_factor', '3')])), Row(keyspace_name='de300_hw2_2176', durable_writes=True, replication=OrderedMapSerializedKey([('class', 'org.apache.cassandra.locator.SimpleStrategy'), ('replication_factor', '3')])), Row(keyspace_name='de300_hw2_arb4945', durable_writes=True, replication=OrderedMapSerializedKey([('class', 'org.apache.cassandra.locator.SimpleStrategy'), ('replication_factor', '3')])), Row(keyspace_name='de300_hw2_daniel', durable_writes=True, replication=OrderedMapSerializedKey([('class', 'org.apache.cassandra.locator.SimpleStrategy'), ('replication_factor', '3')])), Row(keyspace_name='de300_hw2_nkim', durable_writes=True, replication=OrderedMapSerializedKey([('class', 'org.apache.cassandra.locator.SimpleStrategy'), ('replication_factor', '3')])), Row(keyspace_name='de300_lab4', durable_writes=True, replication=OrderedMapSerializedKey([('class', 'org.apache.cassandra.locator.SimpleStrategy'), ('replication_factor', '3')])), Row(keyspace_name='de300_lrg4668', durable_writes=True, replication=OrderedMapSerializedKey([('class', 'org.apache.cassandra.locator.SimpleStrategy'), ('replication_factor', '3')])), Row(keyspace_name='de300_mkr3798', durable_writes=True, replication=OrderedMapSerializedKey([('class', 'org.apache.cassandra.locator.SimpleStrategy'), ('replication_factor', '3')])), Row(keyspace_name='de300_otl3325', durable_writes=True, replication=OrderedMapSerializedKey([('class', 'org.apache.cassandra.locator.SimpleStrategy'), ('replication_factor', '3')])), Row(keyspace_name='de300_sabian_hw2', durable_writes=True, replication=OrderedMapSerializedKey([('class', 'org.apache.cassandra.locator.SimpleStrategy'), ('replication_factor', '3')])), Row(keyspace_name='de300_sabian_hw2_part2', durable_writes=True, replication=OrderedMapSerializedKey([('class', 'org.apache.cassandra.locator.SimpleStrategy'), ('replication_factor', '3')])), Row(keyspace_name='de300_sabian_lab4', durable_writes=True, replication=OrderedMapSerializedKey([('class', 'org.apache.cassandra.locator.SimpleStrategy'), ('replication_factor', '3')])), Row(keyspace_name='de300_ttk6623', durable_writes=True, replication=OrderedMapSerializedKey([('class', 'org.apache.cassandra.locator.SimpleStrategy'), ('replication_factor', '3')])), Row(keyspace_name='dlw8642_de300_hw2', durable_writes=True, replication=OrderedMapSerializedKey([('class', 'org.apache.cassandra.locator.SimpleStrategy'), ('replication_factor', '3')])), Row(keyspace_name='dse300_lab1', durable_writes=True, replication=OrderedMapSerializedKey([('class', 'org.apache.cassandra.locator.SimpleStrategy'), ('replication_factor', '3')])), Row(keyspace_name='dse300_lab4', durable_writes=True, replication=OrderedMapSerializedKey([('class', 'org.apache.cassandra.locator.SimpleStrategy'), ('replication_factor', '3')])), Row(keyspace_name='eks6660_hw2', durable_writes=True, replication=OrderedMapSerializedKey([('class', 'org.apache.cassandra.locator.SimpleStrategy'), ('replication_factor', '3')])), Row(keyspace_name='homework2', durable_writes=True, replication=OrderedMapSerializedKey([('class', 'org.apache.cassandra.locator.SimpleStrategy'), ('replication_factor', '3')])), Row(keyspace_name='hw2_part2', durable_writes=True, replication=OrderedMapSerializedKey([('class', 'org.apache.cassandra.locator.SimpleStrategy'), ('replication_factor', '3')])), Row(keyspace_name='ijz4060_hw2', durable_writes=True, replication=OrderedMapSerializedKey([('class', 'org.apache.cassandra.locator.SimpleStrategy'), ('replication_factor', '3')])), Row(keyspace_name='kyan_shlipak_hw2', durable_writes=True, replication=OrderedMapSerializedKey([('class', 'org.apache.cassandra.locator.SimpleStrategy'), ('replication_factor', '3')])), Row(keyspace_name='mimic', durable_writes=True, replication=OrderedMapSerializedKey([('class', 'org.apache.cassandra.locator.SimpleStrategy'), ('replication_factor', '3')])), Row(keyspace_name='mrs8185_hw2', durable_writes=True, replication=OrderedMapSerializedKey([('class', 'org.apache.cassandra.locator.SimpleStrategy'), ('replication_factor', '3')])), Row(keyspace_name='new2713', durable_writes=True, replication=OrderedMapSerializedKey([('class', 'org.apache.cassandra.locator.SimpleStrategy'), ('replication_factor', '3')])), Row(keyspace_name='part1', durable_writes=True, replication=OrderedMapSerializedKey([('class', 'org.apache.cassandra.locator.SimpleStrategy'), ('replication_factor', '3')])), Row(keyspace_name='part2cassandra', durable_writes=True, replication=OrderedMapSerializedKey([('class', 'org.apache.cassandra.locator.SimpleStrategy'), ('replication_factor', '3')])), Row(keyspace_name='ryan_beam', durable_writes=True, replication=OrderedMapSerializedKey([('class', 'org.apache.cassandra.locator.SimpleStrategy'), ('replication_factor', '3')])), Row(keyspace_name='seeley_hw2', durable_writes=True, replication=OrderedMapSerializedKey([('class', 'org.apache.cassandra.locator.SimpleStrategy'), ('replication_factor', '3')])), Row(keyspace_name='ueb9720_hw2', durable_writes=True, replication=OrderedMapSerializedKey([('class', 'org.apache.cassandra.locator.SimpleStrategy'), ('replication_factor', '3')]))]\n"
     ]
    }
   ],
   "source": [
    "# For example, show all keyspaces created\n",
    "r = session.execute('''\n",
    "    SELECT * FROM system_schema.keyspaces;\n",
    "    ''')\n",
    "print(r.current_rows)"
   ]
  },
  {
   "cell_type": "code",
   "execution_count": 8,
   "id": "609a0fb0-4554-4fd2-975c-bd77b547d8fa",
   "metadata": {},
   "outputs": [
    {
     "name": "stdout",
     "output_type": "stream",
     "text": [
      "[]\n"
     ]
    }
   ],
   "source": [
    "# For example, create a keyspace for HW2\n",
    "r = session.execute('''\n",
    "    CREATE KEYSPACE IF NOT EXISTS csn4634_hw2 \n",
    "    WITH replication = {'class': 'SingleRegionStrategy'};\n",
    "    ''')\n",
    "print(r.current_rows)"
   ]
  },
  {
   "cell_type": "code",
   "execution_count": 10,
   "id": "2a9e1c98-45ab-4cc7-8e6e-d1e7a53b6448",
   "metadata": {},
   "outputs": [],
   "source": [
    "from cassandra.cluster import ExecutionProfile, EXEC_PROFILE_DEFAULT\n",
    "from cassandra import ConsistencyLevel\n",
    "\n",
    "\n",
    "# Define execution profile with LOCAL_QUORUM\n",
    "execution_profile = ExecutionProfile(\n",
    "    consistency_level=ConsistencyLevel.LOCAL_QUORUM\n",
    ")\n",
    "\n",
    "# Cluster setup with correct profile\n",
    "cluster = Cluster(\n",
    "    ['cassandra.us-east-2.amazonaws.com'],\n",
    "    ssl_context=ssl_context,\n",
    "    auth_provider=auth_provider,\n",
    "    port=9142,\n",
    "    execution_profiles={EXEC_PROFILE_DEFAULT: execution_profile}\n",
    ")\n",
    "\n",
    "# establishing connection to Keyspace\n",
    "session = cluster.connect()\n",
    "session.set_keyspace('csn4634_hw2')  "
   ]
  },
  {
   "cell_type": "code",
   "execution_count": 52,
   "id": "cff527d2-3e45-496c-8660-960a0596bcee",
   "metadata": {},
   "outputs": [
    {
     "data": {
      "text/plain": [
       "<cassandra.cluster.ResultSet at 0x77e8d61ec860>"
      ]
     },
     "execution_count": 52,
     "metadata": {},
     "output_type": "execute_result"
    }
   ],
   "source": [
    "# creating table\n",
    "session.execute(\"\"\"\n",
    "CREATE TABLE IF NOT EXISTS q1 (\n",
    "    ethnicity TEXT PRIMARY KEY,\n",
    "    drug TEXT,\n",
    "    count INT,\n",
    ");\n",
    "\"\"\")"
   ]
  },
  {
   "cell_type": "code",
   "execution_count": 28,
   "id": "10ed9095-79bc-416c-9a67-e949b08db2aa",
   "metadata": {},
   "outputs": [],
   "source": [
    "# time to fill table\n",
    "import pandas as pd\n",
    "pres = pd.read_csv(\"Data/PRESCRIPTIONS.csv\")\n",
    "ads = pd.read_csv(\"Data/ADMISSIONS.csv\")\n",
    "\n",
    "combo = pd.merge(pres, ads[['subject_id', 'hadm_id', 'ethnicity']], on=['subject_id', 'hadm_id'], how = 'inner')\n",
    "counts = combo.groupby(['ethnicity', 'drug']).size().reset_index(name = 'count')\n",
    "top_counts = counts.sort_values(['ethnicity','count'], ascending = [True,False]).groupby('ethnicity').first().reset_index()\n",
    "\n",
    "#insert row by row\n",
    "for _, row in top_counts.iterrows():\n",
    "    session.execute(\n",
    "        \"\"\"\n",
    "        INSERT INTO q1 (ethnicity, drug, count)\n",
    "        VALUES (%s, %s, %s)\n",
    "        \"\"\",\n",
    "        (row['ethnicity'], row['drug'], int(row['count']))\n",
    "    )\n"
   ]
  },
  {
   "cell_type": "code",
   "execution_count": 26,
   "id": "64f13062-73c8-4280-95e8-2f85ed3db054",
   "metadata": {},
   "outputs": [
    {
     "name": "stdout",
     "output_type": "stream",
     "text": [
      "The most common drug for those of ethnicity {OTHER} is {NS}\n",
      "The most common drug for those of ethnicity {BLACK/AFRICAN AMERICAN} is {Insulin}\n",
      "The most common drug for those of ethnicity {WHITE} is {Potassium Chloride}\n",
      "The most common drug for those of ethnicity {ASIAN} is {D5W}\n",
      "The most common drug for those of ethnicity {HISPANIC/LATINO - PUERTO RICAN} is {0.9% Sodium Chloride}\n",
      "The most common drug for those of ethnicity {UNKNOWN/NOT SPECIFIED} is {D5W}\n",
      "The most common drug for those of ethnicity {UNABLE TO OBTAIN} is {0.9% Sodium Chloride}\n",
      "The most common drug for those of ethnicity {AMERICAN INDIAN/ALASKA NATIVE FEDERALLY RECOGNIZED TRIBE} is {5% Dextrose}\n",
      "The most common drug for those of ethnicity {HISPANIC OR LATINO} is {5% Dextrose}\n"
     ]
    }
   ],
   "source": [
    "# now query\n",
    "ethnicities =session.execute(\"\"\" SELECT * FROM q1 \"\"\")\n",
    "for ethnicity in ethnicities:\n",
    "    print(\"The most common drug for those of ethnicity {\" + ethnicity.ethnicity + \"} is {\" + ethnicity.drug + \"}\")"
   ]
  },
  {
   "cell_type": "code",
   "execution_count": 157,
   "id": "07e2fb54-05b4-4c7f-ada8-03b2f0627367",
   "metadata": {},
   "outputs": [
    {
     "data": {
      "text/plain": [
       "<cassandra.cluster.ResultSet at 0x77e8c9dcaa50>"
      ]
     },
     "execution_count": 157,
     "metadata": {},
     "output_type": "execute_result"
    }
   ],
   "source": [
    "# create table\n",
    "session.set_keyspace('csn4634_hw2')\n",
    "session.execute(\"\"\"\n",
    "CREATE TABLE IF NOT EXISTS q2 (\n",
    "    age_range TEXT,\n",
    "    icd9_code TEXT,\n",
    "    count INT,\n",
    "    PRIMARY KEY (age_range, icd9_code)\n",
    ");\n",
    "\"\"\")"
   ]
  },
  {
   "cell_type": "code",
   "execution_count": 158,
   "id": "9939edcd-07f3-413e-93b0-f8719d363d18",
   "metadata": {},
   "outputs": [],
   "source": [
    "# add age to admissions\n",
    "import pandas as pd\n",
    "\n",
    "admissions = pd.read_csv('Data/ADMISSIONS.csv')\n",
    "patients = pd.read_csv('Data/PATIENTS.csv')\n",
    "d_icd_procedures = pd.read_csv('Data/D_ICD_PROCEDURES.csv')\n",
    "procedures_icd = pd.read_csv('Data/PROCEDURES_ICD.csv')\n",
    "\n",
    "admissions = admissions.merge(patients[['subject_id', 'dob']], on='subject_id', how='left')\n",
    "def getYear(x):\n",
    "    x = pd.to_datetime(x)\n",
    "    return x.year\n",
    "admissions['age'] = admissions['admittime'].apply(getYear) - admissions['dob'].apply(getYear)\n",
    "\n"
   ]
  },
  {
   "cell_type": "code",
   "execution_count": 187,
   "id": "b96ea8c4-b6c4-4575-bfd8-0e5998751a2e",
   "metadata": {},
   "outputs": [
    {
     "name": "stderr",
     "output_type": "stream",
     "text": [
      "/tmp/ipykernel_2103/1796349228.py:20: DeprecationWarning: DataFrameGroupBy.apply operated on the grouping columns. This behavior is deprecated, and in a future version of pandas the grouping columns will be excluded from the operation. Either pass `include_groups=False` to exclude the groupings or explicitly select the grouping columns after groupby to silence this warning.\n",
      "  top_procedures = age_group_procedure_count.groupby('age_range').apply(lambda x: x.nlargest(3, 'count')).reset_index(drop=True)\n"
     ]
    }
   ],
   "source": [
    "def categorize_age(age):\n",
    "    if age <= 19:\n",
    "        return '<=19'\n",
    "    elif 20 <= age <= 49:\n",
    "        return '20-49'\n",
    "    elif 50 <= age <= 79:\n",
    "        return '50-79'\n",
    "    else:\n",
    "        return '>=80'\n",
    "\n",
    "admissions['age_range'] = admissions['age'].apply(categorize_age)\n",
    "\n",
    "# Step 3: Merge with procedures_icd to get procedure details\n",
    "admissions_procedures = admissions.merge(procedures_icd[['subject_id', 'icd9_code', 'hadm_id']], on=['subject_id', 'hadm_id'], how='left')\n",
    "\n",
    "# Count the occurrences of each procedure by age group\n",
    "age_group_procedure_count = admissions_procedures.groupby(['age_range', 'icd9_code']).size().reset_index(name='count')\n",
    "\n",
    "# Step 4: Get the top 3 procedures for each age group\n",
    "top_procedures = age_group_procedure_count.groupby('age_range').apply(lambda x: x.nlargest(3, 'count')).reset_index(drop=True)\n",
    "top_procedures['icd9_code'] = top_procedures['icd9_code'].apply(lambda x: str(int(x)) if isinstance(x, float) else str(x))\n",
    "\n",
    "# Step 6: Insert the data into Cassandra table\n",
    "insert_query = \"\"\"\n",
    "    INSERT INTO q2 (age_range, icd9_code, count)\n",
    "    VALUES (%s, %s, %s)\n",
    "\"\"\"\n",
    "session.set_keyspace('csn4634_hw2')\n",
    "\n",
    "for index, row in top_procedures.iterrows():\n",
    "    session.execute(insert_query, (row['age_range'], row['icd9_code'], row['count']))\n"
   ]
  },
  {
   "cell_type": "code",
   "execution_count": 188,
   "id": "c563e435-1b7b-4734-a8ce-41dfbc5771cf",
   "metadata": {
    "scrolled": true
   },
   "outputs": [
    {
     "name": "stdout",
     "output_type": "stream",
     "text": [
      "Top 3 Procedures for Age Range <=19:\n",
      "ICD9 Code: 3893, Procedure Name: Venous cath NEC, Count: 2\n",
      "ICD9 Code: 311, Procedure Name: Temporary tracheostomy, Count: 1\n",
      "ICD9 Code: 331, Procedure Name: Spinal tap, Count: 1\n",
      "\n",
      "Top 3 Procedures for Age Range 20-49:\n",
      "ICD9 Code: 3893, Procedure Name: Venous cath NEC, Count: 9\n",
      "ICD9 Code: 9604, Procedure Name: Insert endotracheal tube, Count: 9\n",
      "ICD9 Code: 966, Procedure Name: Entral infus nutrit sub, Count: 7\n",
      "\n",
      "Top 3 Procedures for Age Range 50-79:\n",
      "ICD9 Code: 9604, Procedure Name: Insert endotracheal tube, Count: 51\n",
      "ICD9 Code: 3893, Procedure Name: Venous cath NEC, Count: 25\n",
      "ICD9 Code: 966, Procedure Name: Entral infus nutrit sub, Count: 22\n",
      "\n",
      "Top 3 Procedures for Age Range >=80:\n",
      "ICD9 Code: 3893, Procedure Name: Venous cath NEC, Count: 20\n",
      "ICD9 Code: 9904, Procedure Name: Packed cell transfusion, Count: 13\n",
      "ICD9 Code: 9604, Procedure Name: Insert endotracheal tube, Count: 8\n",
      "\n"
     ]
    }
   ],
   "source": [
    "# Load the d_icd_procedures.csv to get procedure names\n",
    "d_icd_procedures = pd.read_csv('Data/D_ICD_PROCEDURES.csv')\n",
    "\n",
    "# Make sure codes are strings and clean\n",
    "d_icd_procedures['icd9_code'] = d_icd_procedures['icd9_code'].astype(str).str.strip()\n",
    "\n",
    "# Build a dictionary for fast lookup\n",
    "procedure_dict = dict(zip(d_icd_procedures['icd9_code'], d_icd_procedures['short_title']))\n",
    "\n",
    "\n",
    "age_ranges = ['<=19', '20-49', '50-79', '>=80']\n",
    "\n",
    "for age_range in age_ranges:\n",
    "    result = session.execute(\"\"\"\n",
    "        SELECT icd9_code, count\n",
    "        FROM q2\n",
    "        WHERE age_range = %s\n",
    "    \"\"\", (age_range,))\n",
    "\n",
    "    \n",
    "    # Sort the results by 'count' to get the top 3 procedures\n",
    "    sorted_result = sorted(result, key=lambda row: row.count, reverse=True)[:3]\n",
    "    \n",
    "    print(f\"Top 3 Procedures for Age Range {age_range}:\")\n",
    "    for row in sorted_result:\n",
    "        icd9_code = row.icd9_code\n",
    "        procedure_name = d_icd_procedures[d_icd_procedures['icd9_code'] == icd9_code]['short_title'].iloc[0]\n",
    "        print(f\"ICD9 Code: {icd9_code}, Procedure Name: {procedure_name}, Count: {row.count}\")\n",
    "    print()\n"
   ]
  },
  {
   "cell_type": "code",
   "execution_count": 179,
   "id": "19eddc34-5480-4330-ba62-7c615c050d3b",
   "metadata": {},
   "outputs": [
    {
     "data": {
      "text/html": [
       "<div>\n",
       "<style scoped>\n",
       "    .dataframe tbody tr th:only-of-type {\n",
       "        vertical-align: middle;\n",
       "    }\n",
       "\n",
       "    .dataframe tbody tr th {\n",
       "        vertical-align: top;\n",
       "    }\n",
       "\n",
       "    .dataframe thead th {\n",
       "        text-align: right;\n",
       "    }\n",
       "</style>\n",
       "<table border=\"1\" class=\"dataframe\">\n",
       "  <thead>\n",
       "    <tr style=\"text-align: right;\">\n",
       "      <th></th>\n",
       "      <th>row_id</th>\n",
       "      <th>icd9_code</th>\n",
       "    </tr>\n",
       "  </thead>\n",
       "  <tbody>\n",
       "    <tr>\n",
       "      <th>count</th>\n",
       "      <td>3882.000000</td>\n",
       "      <td>3882.000000</td>\n",
       "    </tr>\n",
       "    <tr>\n",
       "      <th>mean</th>\n",
       "      <td>1941.500000</td>\n",
       "      <td>5466.241628</td>\n",
       "    </tr>\n",
       "    <tr>\n",
       "      <th>std</th>\n",
       "      <td>1120.781201</td>\n",
       "      <td>3183.187486</td>\n",
       "    </tr>\n",
       "    <tr>\n",
       "      <th>min</th>\n",
       "      <td>1.000000</td>\n",
       "      <td>1.000000</td>\n",
       "    </tr>\n",
       "    <tr>\n",
       "      <th>25%</th>\n",
       "      <td>971.250000</td>\n",
       "      <td>2837.000000</td>\n",
       "    </tr>\n",
       "    <tr>\n",
       "      <th>50%</th>\n",
       "      <td>1941.500000</td>\n",
       "      <td>5672.500000</td>\n",
       "    </tr>\n",
       "    <tr>\n",
       "      <th>75%</th>\n",
       "      <td>2911.750000</td>\n",
       "      <td>8382.750000</td>\n",
       "    </tr>\n",
       "    <tr>\n",
       "      <th>max</th>\n",
       "      <td>3882.000000</td>\n",
       "      <td>9999.000000</td>\n",
       "    </tr>\n",
       "  </tbody>\n",
       "</table>\n",
       "</div>"
      ],
      "text/plain": [
       "            row_id    icd9_code\n",
       "count  3882.000000  3882.000000\n",
       "mean   1941.500000  5466.241628\n",
       "std    1120.781201  3183.187486\n",
       "min       1.000000     1.000000\n",
       "25%     971.250000  2837.000000\n",
       "50%    1941.500000  5672.500000\n",
       "75%    2911.750000  8382.750000\n",
       "max    3882.000000  9999.000000"
      ]
     },
     "execution_count": 179,
     "metadata": {},
     "output_type": "execute_result"
    }
   ],
   "source": [
    "d_icd_procedures.describe()"
   ]
  },
  {
   "cell_type": "code",
   "execution_count": 221,
   "id": "8f66e442-e2c1-485d-b173-75a8b5ff039b",
   "metadata": {},
   "outputs": [
    {
     "data": {
      "text/plain": [
       "<cassandra.cluster.ResultSet at 0x77e8c9092420>"
      ]
     },
     "execution_count": 221,
     "metadata": {},
     "output_type": "execute_result"
    }
   ],
   "source": [
    "#make table\n",
    "session.execute(\"DROP TABLE IF EXISTS q3\")\n",
    "\n",
    "session.execute(\"\"\"\n",
    "CREATE TABLE IF NOT EXISTS q3(\n",
    "    demographic TEXT,\n",
    "    time_in_icu DOUBLE,\n",
    "    PRIMARY KEY (demographic)\n",
    ");\n",
    "\"\"\")"
   ]
  },
  {
   "cell_type": "code",
   "execution_count": 227,
   "id": "49d655ab-255d-46da-a646-31cb447d7724",
   "metadata": {},
   "outputs": [
    {
     "name": "stderr",
     "output_type": "stream",
     "text": [
      "/tmp/ipykernel_2103/1566127979.py:17: FutureWarning: Series.__getitem__ treating keys as positions is deprecated. In a future version, integer keys will always be treated as labels (consistent with DataFrame behavior). To access a value by position, use `ser.iloc[pos]`\n",
      "  session.execute(insert, ('M', per_gender[0]))\n",
      "/tmp/ipykernel_2103/1566127979.py:18: FutureWarning: Series.__getitem__ treating keys as positions is deprecated. In a future version, integer keys will always be treated as labels (consistent with DataFrame behavior). To access a value by position, use `ser.iloc[pos]`\n",
      "  session.execute(insert, ('F', per_gender[1]))\n",
      "/tmp/ipykernel_2103/1566127979.py:31: FutureWarning: Series.__getitem__ treating keys as positions is deprecated. In a future version, integer keys will always be treated as labels (consistent with DataFrame behavior). To access a value by position, use `ser.iloc[pos]`\n",
      "  session.execute(insert, (ethnic, per_ethnicity[i]))\n"
     ]
    }
   ],
   "source": [
    "# fill table\n",
    "icustays = pd.read_csv('Data/ICUSTAYS.csv')\n",
    "patients = pd.read_csv('Data/PATIENTS.csv')\n",
    "\n",
    "merged = icustays.merge(patients[['subject_id', 'gender']], on='subject_id', how='left')\n",
    "merged['intime'] = pd.to_datetime(merged['intime'])\n",
    "merged['outtime'] = pd.to_datetime(merged['outtime'])\n",
    "\n",
    "merged['time_in_icu'] = (merged['outtime'] - merged['intime']).dt.days\n",
    "\n",
    "insert = \"\"\"\n",
    "    INSERT INTO q3 (demographic, time_in_icu)\n",
    "    VALUES (%s, %s)\n",
    "\"\"\"\n",
    "per_gender = merged.groupby('gender')['time_in_icu'].mean()\n",
    "\n",
    "session.execute(insert, ('M', per_gender[0]))\n",
    "session.execute(insert, ('F', per_gender[1]))\n",
    "\n",
    "admissions = pd.read_csv('Data/ADMISSIONS.csv')\n",
    "\n",
    "merged = icustays.merge(admissions[['subject_id', 'ethnicity']], on='subject_id', how='left')\n",
    "merged['intime'] = pd.to_datetime(merged['intime'])\n",
    "merged['outtime'] = pd.to_datetime(merged['outtime'])\n",
    "\n",
    "merged['time_in_icu'] = (merged['outtime'] - merged['intime']).dt.days\n",
    "\n",
    "per_ethnicity = merged.groupby('ethnicity')['time_in_icu'].mean()\n",
    "i = 0\n",
    "for ethnic in merged['ethnicity'].unique():\n",
    "    session.execute(insert, (ethnic, per_ethnicity[i]))\n",
    "    i += 1"
   ]
  },
  {
   "cell_type": "code",
   "execution_count": 238,
   "id": "ed094246-c3ff-490f-9c1b-c29f6ad4fa23",
   "metadata": {},
   "outputs": [
    {
     "name": "stdout",
     "output_type": "stream",
     "text": [
      "Mean ICU time for ASIAN is 2.6\n",
      "Mean ICU time for HISPANIC/LATINO - PUERTO RICAN is 13.0\n",
      "Mean ICU time for UNKNOWN/NOT SPECIFIED is 3.5\n",
      "Mean ICU time for WHITE is 6.333333333333333\n",
      "Mean ICU time for HISPANIC OR LATINO is 0.3333333333333333\n",
      "Mean ICU time for BLACK/AFRICAN AMERICAN is 11.0\n",
      "Mean ICU time for AMERICAN INDIAN/ALASKA NATIVE FEDERALLY RECOGNIZED TRIBE is 3.6147540983606556\n",
      "Mean ICU time for F is 3.0136986301369864\n",
      "Mean ICU time for M is 5.015873015873016\n",
      "Mean ICU time for UNABLE TO OBTAIN is 3.923076923076923\n",
      "Mean ICU time for OTHER is 7.0\n"
     ]
    }
   ],
   "source": [
    "#query\n",
    "demographics = set(merged['ethnicity'].unique()) | ( set(patients['gender'].unique()))\n",
    "for demo in demographics:\n",
    "    query = \"SELECT time_in_icu FROM q3 WHERE demographic = %s\"\n",
    "    result = session.execute(query, (demo,))\n",
    "    for row in result:\n",
    "        print(f\"Mean ICU time for {demo} is {row.time_in_icu}\")"
   ]
  },
  {
   "cell_type": "code",
   "execution_count": null,
   "id": "5a905eec-f482-427f-83e0-bd221cd4f180",
   "metadata": {},
   "outputs": [],
   "source": []
  }
 ],
 "metadata": {
  "kernelspec": {
   "display_name": "Python 3 (ipykernel)",
   "language": "python",
   "name": "python3"
  },
  "language_info": {
   "codemirror_mode": {
    "name": "ipython",
    "version": 3
   },
   "file_extension": ".py",
   "mimetype": "text/x-python",
   "name": "python",
   "nbconvert_exporter": "python",
   "pygments_lexer": "ipython3",
   "version": "3.12.7"
  }
 },
 "nbformat": 4,
 "nbformat_minor": 5
}
