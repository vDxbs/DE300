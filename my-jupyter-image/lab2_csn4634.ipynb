{
 "cells": [
  {
   "cell_type": "code",
   "execution_count": 4,
   "id": "cdbfbf51-7c83-4f4a-957e-c158f841217c",
   "metadata": {},
   "outputs": [
    {
     "name": "stdout",
     "output_type": "stream",
     "text": [
      "  first_name last_name  age  gender      occupation           city state\n",
      "0       John       Doe   30    Male        Engineer       New York    NY\n",
      "1       Jane       Doe   28  Female        Engineer    Los Angeles    CA\n",
      "2        Bob     Smith   45    Male         Analyst        Chicago    IL\n",
      "3      Alice   Johnson   35  Female  Data Scientist  San Francisco    CA\n",
      "4        Tom     Brown   50    Male          Lawyer          Miami    FL\n"
     ]
    }
   ],
   "source": [
    "import pandas as pd\n",
    "df = pd.read_csv(\"sample_dataset.csv\")\n",
    "print(df.head())"
   ]
  },
  {
   "cell_type": "code",
   "execution_count": null,
   "id": "2338e96c-0a0c-447a-b223-2967d3b1afde",
   "metadata": {},
   "outputs": [],
   "source": []
  },
  {
   "cell_type": "code",
   "execution_count": null,
   "id": "2067df2e-601e-4408-9081-b508bc16ee5e",
   "metadata": {},
   "outputs": [],
   "source": []
  }
 ],
 "metadata": {
  "kernelspec": {
   "display_name": "Python 3 (ipykernel)",
   "language": "python",
   "name": "python3"
  },
  "language_info": {
   "codemirror_mode": {
    "name": "ipython",
    "version": 3
   },
   "file_extension": ".py",
   "mimetype": "text/x-python",
   "name": "python",
   "nbconvert_exporter": "python",
   "pygments_lexer": "ipython3",
   "version": "3.11.6"
  }
 },
 "nbformat": 4,
 "nbformat_minor": 5
}
